{
 "cells": [
  {
   "cell_type": "markdown",
   "metadata": {},
   "source": [
    "# Prompt Engineering"
   ]
  },
  {
   "cell_type": "markdown",
   "metadata": {},
   "source": [
    "## Setup\n",
    "Add a .env file with following content:\n",
    "```env\n",
    "OPENAI_API_KEY=<Your key>\n",
    "```"
   ]
  },
  {
   "cell_type": "code",
   "execution_count": 1,
   "metadata": {
    "ExecuteTime": {
     "end_time": "2023-07-10T14:30:23.418591480Z",
     "start_time": "2023-07-10T14:30:22.962258310Z"
    }
   },
   "outputs": [],
   "source": [
    "import openai\n",
    "import os\n",
    "\n",
    "from dotenv import load_dotenv, find_dotenv\n",
    "_ = load_dotenv(find_dotenv()) # read local .env file\n",
    "\n",
    "openai.api_key  = os.getenv('OPENAI_API_KEY')"
   ]
  },
  {
   "cell_type": "code",
   "execution_count": 2,
   "metadata": {
    "ExecuteTime": {
     "end_time": "2023-07-09T14:54:35.517399584Z",
     "start_time": "2023-07-09T14:54:35.497376967Z"
    }
   },
   "outputs": [],
   "source": [
    "def get_completion(prompt, model=\"gpt-3.5-turbo\"):\n",
    "    messages = [{\"role\": \"user\", \"content\": prompt}]\n",
    "    response = openai.ChatCompletion.create(\n",
    "        model=model,\n",
    "        messages=messages,\n",
    "        temperature=0, # this is the degree of randomness of the model's output\n",
    "    )\n",
    "    return response.choices[0].message[\"content\"]"
   ]
  },
  {
   "cell_type": "markdown",
   "metadata": {},
   "source": [
    "### Read BPMN Diagrams"
   ]
  },
  {
   "cell_type": "markdown",
   "metadata": {},
   "source": [
    "#### Anhang 1 - Application Process\n",
    "<div>\n",
    "    <img src=\"./images/application.png\" width=\"900\"/>\n",
    "</div>"
   ]
  },
  {
   "cell_type": "code",
   "execution_count": 3,
   "metadata": {
    "ExecuteTime": {
     "end_time": "2023-07-09T14:54:42.829277650Z",
     "start_time": "2023-07-09T14:54:42.793724805Z"
    }
   },
   "outputs": [],
   "source": [
    "reader = open(\"bpmn/application_process.bpmn\")\n",
    "application = reader.read()"
   ]
  },
  {
   "cell_type": "markdown",
   "metadata": {},
   "source": [
    "#### Anhang 2 - Cooking Process\n",
    "<div>\n",
    "    <img src=\"./images/cooking.png\" width=\"900\"/>\n",
    "</div>"
   ]
  },
  {
   "cell_type": "code",
   "execution_count": 4,
   "metadata": {
    "ExecuteTime": {
     "end_time": "2023-07-09T14:54:45.349400164Z",
     "start_time": "2023-07-09T14:54:45.342514956Z"
    }
   },
   "outputs": [],
   "source": [
    "reader = open(\"bpmn/cooking.bpmn\")\n",
    "cooking = reader.read()"
   ]
  },
  {
   "cell_type": "markdown",
   "metadata": {},
   "source": [
    "#### Anhang 3 - Invoice Process\n",
    "<div>\n",
    "    <img src=\"./images/invoice.png\" width=\"900\"/>\n",
    "</div>"
   ]
  },
  {
   "cell_type": "code",
   "execution_count": 5,
   "metadata": {
    "ExecuteTime": {
     "end_time": "2023-07-09T14:54:46.968430586Z",
     "start_time": "2023-07-09T14:54:46.940669740Z"
    }
   },
   "outputs": [],
   "source": [
    "reader = open(\"bpmn/invoice.bpmn\")\n",
    "invoice = reader.read()"
   ]
  },
  {
   "cell_type": "markdown",
   "metadata": {},
   "source": [
    "## Anhang 4 - How well does ChatGPT understand BPMN?"
   ]
  },
  {
   "cell_type": "markdown",
   "metadata": {},
   "source": [
    "### Question to the BPMN 2.0 Specification"
   ]
  },
  {
   "cell_type": "code",
   "execution_count": 14,
   "metadata": {
    "ExecuteTime": {
     "end_time": "2023-06-27T12:37:50.747469468Z",
     "start_time": "2023-06-27T12:37:43.979890019Z"
    }
   },
   "outputs": [
    {
     "name": "stdout",
     "output_type": "stream",
     "text": [
      "1. Task\n",
      "2. User Task\n",
      "3. Manual Task\n",
      "4. Service Task\n",
      "5. Business Rule Task\n",
      "6. Script Task\n",
      "7. Send Task\n",
      "8. Receive Task\n",
      "9. Call Activity\n",
      "10. Sub-Process Task\n",
      "11. Event Sub-Process Task\n",
      "12. Transaction Task\n",
      "13. Ad-Hoc Sub-Process Task\n",
      "14. Compensation Task\n",
      "15. Gateway Task\n",
      "16. Exclusive Gateway\n",
      "17. Inclusive Gateway\n",
      "18. Parallel Gateway\n",
      "19. Complex Gateway\n",
      "20. Event-Based Gateway.\n"
     ]
    }
   ],
   "source": [
    "prompt = f\"\"\"\n",
    "List all different task types of the BPMN 2.0 specification.\n",
    "\"\"\"\n",
    "response = get_completion(prompt)\n",
    "print(response)"
   ]
  },
  {
   "cell_type": "markdown",
   "metadata": {},
   "source": [
    "#### Result:\n",
    "* Wrong answer Gateways or Sub-Processes are not a Task Type"
   ]
  },
  {
   "cell_type": "markdown",
   "metadata": {},
   "source": [
    "### Describe a given BPMN Diagram"
   ]
  },
  {
   "cell_type": "code",
   "execution_count": 12,
   "metadata": {
    "ExecuteTime": {
     "end_time": "2023-06-27T12:33:32.239346515Z",
     "start_time": "2023-06-27T12:33:25.586590263Z"
    }
   },
   "outputs": [
    {
     "name": "stdout",
     "output_type": "stream",
     "text": [
      "The BPMN diagram represents a process for filling a job vacancy. The process starts with a \"Vacancy emerged\" event and then moves to a \"Report vacancy\" user task. Once the vacancy is reported, the process moves to a \"Create job posting\" user task. After the job posting is created, the process moves to a \"Application received\" service task. Once the application is received, the process moves to a \"Hold application exam\" user task. After the exam is held, the process moves to a \"Select applicant\" user task. Finally, the process ends with a \"Position filled\" end event. The diagram includes sequence flows connecting the events and tasks, and BPMN shapes representing the events and tasks.\n"
     ]
    }
   ],
   "source": [
    "prompt = f\"\"\"\n",
    "Your task is to describe a given BPMN Diagram.\n",
    "```{application}```\n",
    "\"\"\"\n",
    "response = get_completion(prompt)\n",
    "print(response)"
   ]
  },
  {
   "cell_type": "code",
   "execution_count": 55,
   "metadata": {
    "ExecuteTime": {
     "end_time": "2023-06-28T12:22:54.298412388Z",
     "start_time": "2023-06-28T12:22:41.772892915Z"
    }
   },
   "outputs": [
    {
     "name": "stdout",
     "output_type": "stream",
     "text": [
      "The given BPMN diagram represents a process for choosing and preparing a meal. Here is a description of the diagram:\n",
      "\n",
      "The process starts with a \"Hunger noted\" event, represented by a start event. From this event, a sequence flow leads to the \"Choose recipe\" user task, represented by a rectangle with the name \"Choose recipe\". After the user task, another sequence flow leads to an exclusive gateway with the name \"Desired dish?\". This gateway has two outgoing sequence flows, one named \"Pasta\" and the other named \"Steak\".\n",
      "\n",
      "If the \"Pasta\" sequence flow is taken, it leads to the \"Cook pasta\" user task. If the \"Steak\" sequence flow is taken, it leads to the \"Fry steak\" user task. Both user tasks are represented by rectangles with their respective names.\n",
      "\n",
      "After the \"Cook pasta\" and \"Fry steak\" user tasks, the process converges at another exclusive gateway, represented by a diamond shape. This gateway has two incoming sequence flows, one from the \"Cook pasta\" user task and the other from the \"Fry steak\" user task. From this gateway, a sequence flow leads to the \"Eat meal\" user task, represented by a rectangle with the name \"Eat meal\".\n",
      "\n",
      "Finally, from the \"Eat meal\" user task, a sequence flow leads to the \"Hunger satisfied\" end event, represented by a circle with the name \"Hunger satisfied\".\n",
      "\n",
      "Overall, this BPMN diagram represents a process where the user notes their hunger, chooses a recipe (either pasta or steak), cooks the chosen dish, eats the meal, and finally, their hunger is satisfied.\n"
     ]
    }
   ],
   "source": [
    "prompt = f\"\"\"\n",
    "Your task is to describe a given BPMN Diagram.\n",
    "```{cooking}```\n",
    "\"\"\"\n",
    "response = get_completion(prompt)\n",
    "print(response)"
   ]
  },
  {
   "cell_type": "code",
   "execution_count": 56,
   "metadata": {
    "ExecuteTime": {
     "end_time": "2023-06-28T12:26:08.100150759Z",
     "start_time": "2023-06-28T12:25:53.500064204Z"
    }
   },
   "outputs": [
    {
     "name": "stdout",
     "output_type": "stream",
     "text": [
      "The given BPMN diagram represents a process flow for handling the sale of an item and the associated invoicing process. Here is a description of the diagram:\n",
      "\n",
      "1. The process starts with an event called \"Item sold\" (Start Event). This event signifies the initiation of the process when an item is sold.\n",
      "\n",
      "2. From the start event, there is a sequence flow that connects to a user task called \"Create invoice\" (User Task). This task represents the creation of an invoice for the sold item.\n",
      "\n",
      "3. After the \"Create invoice\" task, there is another sequence flow that connects to a service task called \"Send invoice\" (Service Task). This task represents the action of sending the created invoice to the customer.\n",
      "\n",
      "4. From the \"Send invoice\" task, there is a sequence flow that connects to an exclusive gateway called \"Received money?\" (Exclusive Gateway). This gateway represents a decision point based on whether the money for the invoice has been received or not.\n",
      "\n",
      "5. The \"Received money?\" gateway has two incoming sequence flows, one from the \"Send invoice\" task and another from a service task called \"Send reminder\" (Service Task). These sequence flows represent the different paths that lead to the decision point.\n",
      "\n",
      "6. From the \"Received money?\" gateway, there are two outgoing sequence flows. One flow is labeled \"No\" and connects to the \"Send reminder\" task, representing the action of sending a reminder if the money has not been received. The other flow is labeled \"Yes\" and connects to an end event called \"Invoice settled\" (End Event), representing the successful settlement of the invoice.\n",
      "\n",
      "Overall, this BPMN diagram represents a process flow for handling the sale of an item, including the creation of an invoice, sending the invoice, and making a decision based on whether the money has been received or not.\n"
     ]
    }
   ],
   "source": [
    "prompt = f\"\"\"\n",
    "Your task is to describe a given BPMN Diagram.\n",
    "```{invoice}```\n",
    "\"\"\"\n",
    "response = get_completion(prompt)\n",
    "print(response)"
   ]
  },
  {
   "cell_type": "markdown",
   "metadata": {},
   "source": [
    "#### Result:\n",
    "* Extracted the correct:\n",
    "    * Process meaning (e.g. \"filling a job vacancy\")\n",
    "    * Element Name (e.g. \"Vacancy emerged\")\n",
    "    * Task Type (e.g User Task)\n",
    "    * Sequence Flow\n",
    "* Include unnecessary information (e.g. the shape of a task or gateway)\n",
    "* Different output formats over the three prompts"
   ]
  },
  {
   "cell_type": "markdown",
   "metadata": {},
   "source": [
    "## Anhang 5 - Describing the BPMN process"
   ]
  },
  {
   "cell_type": "code",
   "execution_count": 10,
   "metadata": {
    "ExecuteTime": {
     "end_time": "2023-07-08T09:24:44.738404176Z",
     "start_time": "2023-07-08T09:24:42.266671151Z"
    }
   },
   "outputs": [
    {
     "name": "stdout",
     "output_type": "stream",
     "text": [
      "1. StartEvent \"Vacancy emerged\" -> 2\n",
      "2. UserTask \"Report vacancy\" -> 3\n",
      "3. UserTask \"Create job posting\" -> 4\n",
      "4. ServiceTask \"Application received\" -> 5\n",
      "5. UserTask \"Hold application exam\" -> 6\n",
      "6. UserTask \"Select applicant\" -> 7\n",
      "7. EndEvent \"Position filled\"\n"
     ]
    }
   ],
   "source": [
    "prompt_1 = f\"\"\"\n",
    "You will be provided with an BPMN Diagram as XML delimited by triple backticks.\n",
    "Whenever I mention \"relevant\" BPMN elements I mean all BPMN elements described in the official specification excluding the sequence flow.\n",
    "Describe the process as a list of items.\n",
    "Every item represents a relevant BPMN element.\n",
    "The list has the following structure:\n",
    "\n",
    "1. <ELEMENT> \"<NAME>\" -> 2.\n",
    "2. <ELEMENT> \"<NAME>\" -> 3.\n",
    "...\n",
    "N. <ELEMENT> \"<NAME>\"\n",
    "\n",
    "Replace <ELEMENT> with the relevant BPMN element (e.g. Startevent, Exclusive Gateway, etc.).\n",
    "Replace <NAME> with the name attribute in the given XML for the corresponding element.\n",
    "The first number represents the position of that element.\n",
    "The number after the arrow (->) represents the next element.\n",
    "\n",
    "A Gateway can have multiple following elements. If that is the case separate the numbers with a comma.\n",
    "It is important that the final list do not include any sequence flow.\n",
    "\n",
    "```{application}```\n",
    "\"\"\"\n",
    "response_1 = get_completion(prompt_1)\n",
    "print(response_1)"
   ]
  },
  {
   "cell_type": "code",
   "execution_count": 11,
   "metadata": {
    "ExecuteTime": {
     "end_time": "2023-07-08T09:24:58.310158315Z",
     "start_time": "2023-07-08T09:24:55.222373368Z"
    }
   },
   "outputs": [
    {
     "name": "stdout",
     "output_type": "stream",
     "text": [
      "1. StartEvent \"Hunger noted\" -> 2\n",
      "2. SequenceFlow -> 3\n",
      "3. ExclusiveGateway \"Desired dish?\" -> 4,5\n",
      "4. SequenceFlow -> 6\n",
      "5. SequenceFlow -> 7\n",
      "6. UserTask \"Choose recipe\" -> 8\n",
      "7. UserTask \"Fry steak\" -> 8\n",
      "8. ExclusiveGateway -> 9\n",
      "9. SequenceFlow -> 10\n",
      "10. SequenceFlow -> 11\n",
      "11. UserTask \"Cook pasta\" -> 12\n",
      "12. UserTask \"Eat meal\" -> 13\n",
      "13. EndEvent \"Hunger satisfied\"\n"
     ]
    }
   ],
   "source": [
    "prompt_2 = f\"\"\"\n",
    "You will be provided with an BPMN Diagram as XML delimited by triple backticks.\n",
    "From now on, whenever I mention \"relevant\" BPMN elements I mean all BPMN elements described in the official specification excluding the sequence flow.\n",
    "Describe the process as a list of items.\n",
    "Every item represents a relevant BPMN element.\n",
    "The list has the following structure:\n",
    "\n",
    "1. <ELEMENT> \"<NAME>\" -> 2.\n",
    "2. <ELEMENT> \"<NAME>\" -> 3.\n",
    "...\n",
    "N. <ELEMENT> \"<NAME>\"\n",
    "\n",
    "Replace <ELEMENT> with the relevant BPMN element (e.g. Startevent, Exclusive Gateway, etc.).\n",
    "Replace <NAME> with the name attribute in the given XML for the corresponding element. If the attribute name is missing then ignore <NAME>.\n",
    "The first number represents the position of that element and acts like an id for the element.\n",
    "The number after the arrow (->) represents the id of the next element.\n",
    "\n",
    "A Gateway can have multiple following elements. If that is the case separate the numbers with a comma.\n",
    "It is important that the final list do not include any sequence flow.\n",
    "\n",
    "```{cooking}```\n",
    "\"\"\"\n",
    "response = get_completion(prompt_2)\n",
    "print(response)"
   ]
  },
  {
   "cell_type": "code",
   "execution_count": 14,
   "metadata": {
    "ExecuteTime": {
     "end_time": "2023-07-08T09:29:39.516866818Z",
     "start_time": "2023-07-08T09:29:35.942020800Z"
    }
   },
   "outputs": [
    {
     "name": "stdout",
     "output_type": "stream",
     "text": [
      "1. StartEvent \"Item sold\" -> 2\n",
      "2. SequenceFlow -> 3\n",
      "3. UserTask \"Create invoice\" -> 4\n",
      "4. SequenceFlow -> 5\n",
      "5. ServiceTask \"Send invoice\" -> 6\n",
      "6. SequenceFlow -> 7\n",
      "7. ExclusiveGateway \"Received money?\" -> 8,9\n",
      "8. SequenceFlow -> 10\n",
      "9. SequenceFlow -> 8,9\n",
      "10. ServiceTask \"Send reminder\" -> 11\n",
      "11. SequenceFlow -> 12\n",
      "12. ExclusiveGateway \"Received money?\" -> 13,14\n",
      "13. SequenceFlow -> 15\n",
      "14. SequenceFlow -> 13,14\n",
      "15. EndEvent \"Invoice settled\"\n"
     ]
    }
   ],
   "source": [
    "prompt_3 = f\"\"\"\n",
    "You will be provided with an BPMN Diagram as XML delimited by triple backticks.\n",
    "From now on, whenever I mention \"relevant\" BPMN elements I mean all BPMN elements described in the official specification excluding the sequence flow.\n",
    "Describe the process as a list of items.\n",
    "Every item represents a relevant BPMN element.\n",
    "The list has the following structure:\n",
    "\n",
    "1. <ELEMENT> \"<NAME>\" -> 2.\n",
    "2. <ELEMENT> \"<NAME>\" -> 3.\n",
    "...\n",
    "N. <ELEMENT> \"<NAME>\"\n",
    "\n",
    "Replace <ELEMENT> with the relevant BPMN element (e.g. Startevent, Exclusive Gateway, etc.).\n",
    "Replace <NAME> with the name attribute in the given XML for the corresponding element. If the attribute name is missing then ignore <NAME>.\n",
    "The first number represents the position of that element and acts like an id for the element.\n",
    "The number after the arrow (->) represents the id of the next element.\n",
    "\n",
    "A Gateway can have multiple following elements. If that is the case separate the numbers with a comma.\n",
    "It is important that the final list do not include any sequence flow.\n",
    "\n",
    "```{invoice}```\n",
    "\"\"\"\n",
    "response = get_completion(prompt_3)\n",
    "print(response)"
   ]
  },
  {
   "cell_type": "code",
   "execution_count": 13,
   "metadata": {
    "ExecuteTime": {
     "end_time": "2023-07-08T09:27:31.768595141Z",
     "start_time": "2023-07-08T09:27:28.875428806Z"
    }
   },
   "outputs": [
    {
     "name": "stdout",
     "output_type": "stream",
     "text": [
      "<chatgpt>: 1. StartEvent \"Hunger noted\" -> 2\n",
      "2. UserTask \"Choose recipe\" -> 3\n",
      "3. ExclusiveGateway \"Desired dish?\" -> 4,5\n",
      "4. UserTask \"Cook pasta\" -> 6\n",
      "5. UserTask \"Fry steak\" -> 6\n",
      "6. ExclusiveGateway -> 7\n",
      "7. UserTask \"Eat meal\" -> 8\n",
      "8. EndEvent \"Hunger satisfied\"\n"
     ]
    }
   ],
   "source": [
    "prompt_4 = f\"\"\"\n",
    "Your task is to answer in a consistent style.\n",
    "\n",
    "<person>: {prompt_1}\n",
    "\n",
    "<chatgpt>: {response_1}\n",
    "\n",
    "<person>: {prompt_2}\n",
    "\"\"\"\n",
    "response = get_completion(prompt_4, \"gpt-3.5-turbo-16k\")\n",
    "print(response)\n"
   ]
  },
  {
   "cell_type": "code",
   "execution_count": 15,
   "metadata": {
    "ExecuteTime": {
     "end_time": "2023-07-08T09:35:43.890822486Z",
     "start_time": "2023-07-08T09:35:41.583630215Z"
    }
   },
   "outputs": [
    {
     "name": "stdout",
     "output_type": "stream",
     "text": [
      "<chatgpt>: 1. StartEvent \"Item sold\" -> 2\n",
      "2. UserTask \"Create invoice\" -> 3\n",
      "3. ServiceTask \"Send invoice\" -> 4\n",
      "4. ExclusiveGateway \"Received money?\" -> 5,6\n",
      "5. ServiceTask \"Send reminder\" -> 7\n",
      "6. EndEvent \"Invoice settled\"\n",
      "7. EndEvent \"Invoice settled\"\n"
     ]
    }
   ],
   "source": [
    "prompt_5 = f\"\"\"\n",
    "Your task is to answer in a consistent style.\n",
    "\n",
    "<person>: {prompt_1}\n",
    "\n",
    "<chatgpt>: {response_1}\n",
    "\n",
    "<person>: {prompt_3}\n",
    "\"\"\"\n",
    "response = get_completion(prompt_5, \"gpt-3.5-turbo-16k\")\n",
    "print(response)\n"
   ]
  },
  {
   "cell_type": "markdown",
   "metadata": {},
   "source": [
    "#### Result:\n",
    "* *prompt_1* leads to the correct output without sequence flows\n",
    "* *prompt_2* somehow does not remove the sequence flows sufficiently\n",
    "    * even after multiple tries with different prompts\n",
    "    * does not always create a correct list\n",
    "* *prompt_3* incorrect process description (11. is never reached)\n",
    "* *prompt_4* uses few shot prompting\n",
    "    * solves the problem with the appearance or sequence flows in the final list\n",
    "    * needs a different model with more tokens\n",
    "    * output for third BPMN diagram is wrong\n"
   ]
  },
  {
   "cell_type": "markdown",
   "metadata": {},
   "source": [
    "## Anhang 6 - Extracting information\n"
   ]
  },
  {
   "cell_type": "code",
   "execution_count": 9,
   "metadata": {
    "ExecuteTime": {
     "end_time": "2023-07-09T15:03:51.507787114Z",
     "start_time": "2023-07-09T15:03:48.505511098Z"
    }
   },
   "outputs": [
    {
     "name": "stdout",
     "output_type": "stream",
     "text": [
      "0 The given BPMN process involves the steps of reporting a vacancy, creating a job posting, receiving applications, holding an application exam, selecting an applicant, and filling the position. \n",
      "\n",
      "1 The process involves choosing a recipe based on hunger, cooking the chosen dish, and then eating the meal to satisfy hunger. \n",
      "\n",
      "2 The given BPMN process involves the steps of creating an invoice, sending the invoice, checking if money is received, and sending a reminder if necessary, with the process ending when the invoice is settled. \n",
      "\n"
     ]
    }
   ],
   "source": [
    "processes = [application, cooking, invoice]\n",
    "for i in range(len(processes)):\n",
    "    prompt = f\"\"\"\n",
    "    Your task is to generate a short summary of a given BPMN Process. \\\n",
    "\n",
    "    Summarize the process below, delimited by triple\n",
    "    backticks, in at most 1 sentence.\n",
    "\n",
    "    Process: ```{processes[i]}```\n",
    "    \"\"\"\n",
    "    response = get_completion(prompt)\n",
    "    print(i, response, \"\\n\")\n"
   ]
  },
  {
   "cell_type": "code",
   "execution_count": 11,
   "metadata": {
    "ExecuteTime": {
     "end_time": "2023-07-09T15:12:28.434818362Z",
     "start_time": "2023-07-09T15:12:26.311714390Z"
    }
   },
   "outputs": [
    {
     "name": "stdout",
     "output_type": "stream",
     "text": [
      "* bpmn:definitions 1\n",
      "* bpmn:process 1\n",
      "* bpmn:startEvent 1\n",
      "* bpmn:sequenceFlow 5\n",
      "* bpmn:userTask 4\n",
      "* bpmn:serviceTask 1\n",
      "* bpmn:endEvent 1\n"
     ]
    }
   ],
   "source": [
    "prompt = f\"\"\"\n",
    "You will be provided with an BPMN Diagram as XML delimited by triple backticks.\n",
    "Extract all distinct BPMN elements present in the diagram, excluding sequence flows.\n",
    "Also count how often a element is used.\n",
    "Display the list in the following format:\n",
    "\n",
    "* <ELEMENT> <COUNT>\n",
    "* <ELEMENT> <COUNT>\n",
    "...\n",
    "\n",
    "Replace <ELEMENT> with the relevant BPMN element (e.g. StartEvent, Exclusive Gateway, etc.)\n",
    "Replace <COUNT> with the number of times the element is contained in the diagram.\n",
    "\n",
    "Note that the sequence flows will be excluded from the list, as per my instructions.\n",
    "\n",
    "```{application}```\n",
    "\"\"\"\n",
    "response = get_completion(prompt)\n",
    "print(response)"
   ]
  },
  {
   "cell_type": "markdown",
   "metadata": {},
   "source": [
    "### Search for loop or cycle"
   ]
  },
  {
   "cell_type": "code",
   "execution_count": 16,
   "metadata": {
    "ExecuteTime": {
     "end_time": "2023-07-08T10:29:18.571513495Z",
     "start_time": "2023-07-08T10:29:16.846396428Z"
    }
   },
   "outputs": [
    {
     "name": "stdout",
     "output_type": "stream",
     "text": [
      "No\n"
     ]
    }
   ],
   "source": [
    "prompt_1 = f\"\"\"\n",
    "You will be provided with an BPMN Diagram as XML delimited by triple backticks.\n",
    "Determine if the diagram contains a loop or cycle in which one or more tasks can be executed multiple times.\n",
    "Provide an answer limited to two words \"Yes\" or \"No\".\n",
    "\n",
    "```{cooking}```\n",
    "\"\"\"\n",
    "response = get_completion(prompt_1)\n",
    "print(response)"
   ]
  },
  {
   "cell_type": "code",
   "execution_count": 17,
   "metadata": {
    "ExecuteTime": {
     "end_time": "2023-07-08T10:29:20.684380763Z",
     "start_time": "2023-07-08T10:29:20.025703025Z"
    }
   },
   "outputs": [
    {
     "name": "stdout",
     "output_type": "stream",
     "text": [
      "No\n"
     ]
    }
   ],
   "source": [
    "prompt_2 = f\"\"\"\n",
    "You will be provided with an BPMN Diagram as XML delimited by triple backticks.\n",
    "Determine if the diagram contains a loop or cycle in which one or more tasks can be executed multiple times.\n",
    "Provide an answer limited to two words \"Yes\" or \"No\".\n",
    "\n",
    "```{invoice}```\n",
    "\"\"\"\n",
    "response = get_completion(prompt_2)\n",
    "print(response)"
   ]
  },
  {
   "cell_type": "code",
   "execution_count": 18,
   "metadata": {
    "ExecuteTime": {
     "end_time": "2023-07-08T10:29:24.627318593Z",
     "start_time": "2023-07-08T10:29:22.027245559Z"
    }
   },
   "outputs": [
    {
     "name": "stdout",
     "output_type": "stream",
     "text": [
      "Yes, the BPMN diagram contains a loop or cycle. The loop is formed by the sequence flow between the \"Send reminder\" task (Activity_0mgn8rb) and the exclusive gateway (Gateway_16w5r3m), and the sequence flow between the exclusive gateway and the \"Send invoice\" task (Activity_0zlx5ya). This loop allows the \"Send reminder\" and \"Send invoice\" tasks to be executed multiple times.\n"
     ]
    }
   ],
   "source": [
    "prompt_3 = f\"\"\"\n",
    "You will be provided with an BPMN Diagram as XML delimited by triple backticks.\n",
    "Determine if the diagram contains a loop or cycle in which one or more tasks can be executed multiple times.\n",
    "\n",
    "```{invoice}```\n",
    "\"\"\"\n",
    "response = get_completion(prompt_3)\n",
    "print(response)\n"
   ]
  },
  {
   "cell_type": "code",
   "execution_count": 20,
   "metadata": {
    "ExecuteTime": {
     "end_time": "2023-07-08T10:30:17.759489508Z",
     "start_time": "2023-07-08T10:30:14.563260348Z"
    }
   },
   "outputs": [
    {
     "name": "stdout",
     "output_type": "stream",
     "text": [
      "Visited elements: [Event_140mb0o, Flow_1px778j, Activity_0rllx8f, Flow_1yc3h6k, Activity_0zlx5ya, Flow_1dcej3e, Gateway_16w5r3m, Flow_09cpp6w, Activity_0mgn8rb, Flow_10vlhhj, Gateway_16w5r3m, Flow_1gcqri7, Event_0rp17pv]\n",
      "Duplicates: Gateway_16w5r3m\n",
      "Answer: Yes\n"
     ]
    }
   ],
   "source": [
    "prompt_4 = f\"\"\"\n",
    "You will be provided with an BPMN Diagram as XML delimited by triple backticks. \\\n",
    "Determine if the diagram contains a loop or cycle in which one or more BPMN elements are executed multiple times. \\\n",
    "Don't decide until you followed every possible sequence flow and gateway. \\\n",
    "Perform the following actions: \\\n",
    "1 - Simulate a token. \\\n",
    "  - The token have to follow every possible path step-by-step. \\\n",
    "  - If a Gateway is visited twice simulate each outgoing sequence flow at least twice. \\\n",
    "2 - Create a list with the visited BPMN element of every simulation step. \\\n",
    "3 - Check if the resulting list contains duplicates. \\\n",
    "4 - Provide an answer.\n",
    "\n",
    "Use the following format: \\\n",
    "Visited elements: \\\n",
    "<list of visited elements> \\\n",
    "Duplicates: \\\n",
    "<duplicates> \\\n",
    "Answer: \\\n",
    "<Yes or No>\n",
    "\n",
    "```{invoice}```\n",
    "\"\"\"\n",
    "response = get_completion(prompt_4)\n",
    "print(response)"
   ]
  },
  {
   "cell_type": "markdown",
   "metadata": {},
   "source": [
    "#### Result\n",
    "* The output format influence if the answer is correct or incorrect"
   ]
  },
  {
   "cell_type": "markdown",
   "metadata": {},
   "source": [
    "## Anhang 7 - Flipped Interaction"
   ]
  },
  {
   "cell_type": "code",
   "execution_count": 2,
   "metadata": {
    "ExecuteTime": {
     "end_time": "2023-06-30T09:28:05.698815722Z",
     "start_time": "2023-06-30T09:28:05.694617729Z"
    }
   },
   "outputs": [
    {
     "data": {
      "text/markdown": [
       "**You:**\n",
       "\n",
       "From now on, I would like you to ask me questions to create a executable BPMN 2.0 Diagram. When you have enough information to create the BPMN Diagram give me the XML for this diagram.\n",
       "Ask me the questions one at a time.\n",
       "\n",
       "------------------\n",
       "\n",
       "**ChatGPT:**\n",
       "\n",
       "Sure, I can help you create an executable BPMN 2.0 diagram. Let's start with the first question:\n",
       "\n",
       "1. What is the process you want to model using BPMN? Please provide a brief description or name for the process.\n",
       "\n",
       "\n",
       "\n",
       "------------------\n",
       "\n",
       "**You:**\n",
       "\n",
       "1. The process is about the sale of an item and the associated invoicing process.\n",
       "\n",
       "------------------\n",
       "\n",
       "**ChatGPT:**\n",
       "\n",
       "Great! Now let's move on to the next question:\n",
       "\n",
       "1. What are the main steps or activities involved in the sales and invoicing process?\n",
       "\n",
       "\n",
       "\n",
       "------------------\n",
       "\n",
       "**You:**\n",
       "\n",
       "Steps are as follows:\n",
       "1. Item sold\n",
       "2. Create invoice\n",
       "3. Send invoice\n",
       "4. Wait for payment\n",
       "If we get the money\n",
       "5. Process ends\n",
       "Else\n",
       "5. Wait for 1 week\n",
       "6. Send a reminder\n",
       "\n",
       "------------------\n",
       "\n",
       "**ChatGPT:**\n",
       "\n",
       "Thank you for providing the steps. Now, let's continue with the next question:\n",
       "\n",
       "1. Are there any specific roles or participants involved in the process? If so, please provide the names or descriptions of the roles.\n",
       "\n",
       "\n",
       "\n",
       "------------------\n",
       "\n",
       "**You:**\n",
       "\n",
       "No please create the process without specific roles.\n",
       "\n",
       "------------------\n",
       "\n",
       "**ChatGPT:**\n",
       "\n",
       "Understood. Moving on to the next question:\n",
       "\n",
       "1. Are there any specific events that trigger or occur during the sales and invoicing process? Examples of events could be \"Item Sold\" or \"Payment Received.\" If there are any events, please provide their names or descriptions.\n",
       "\n",
       "\n",
       "\n",
       "------------------\n",
       "\n",
       "**You:**\n",
       "\n",
       "\"Item Sold\" is a Start Event.\n",
       "\"Wait for payment\" is a Timer Event.\n",
       "\"Wait 1 week\" is another Timer Event.\n",
       "\"Payment received\" is the End Event.\n",
       "\n",
       "------------------\n",
       "\n",
       "**ChatGPT:**\n",
       "\n",
       "Got it. Here's the summary of the information you provided:\n",
       "* Start Event: \"Item Sold\"* Activities:\n",
       "\n",
       "</li>* End Event: \"Payment Received\"Now, let's proceed to the next question:\n",
       "\n",
       "1. Are there any conditions or gateways that determine the flow of the process? For example, any decision points where the process takes different paths based on certain conditions. If there are any conditions or gateways, please describe them.\n",
       "\n",
       "\n",
       "\n",
       "------------------\n",
       "\n",
       "**You:**\n",
       "\n",
       "Yes, we need one \n",
       "\n",
       "------------------\n",
       "\n",
       "**ChatGPT:**\n",
       "\n",
       "Understood. Please provide a description or name for the condition or gateway, and any specific conditions or rules that determine the flow of the process at that point.\n",
       "\n",
       "\n",
       "------------------\n",
       "\n",
       "**You:**\n",
       "\n",
       "The Gateway has to be after \"Wait for Payment\". The Gateway has to outgoing sequence flows. One sequence flow is labeled with \"Yes\" and means that we received the money. The other sequence flow is labeled with \"No\" and means we have to \"Send Reminder\".\n",
       "\n",
       "------------------\n",
       "\n",
       "**ChatGPT:**\n",
       "\n",
       "Thank you for providing the details. Here's the updated summary of the process:\n",
       "* Start Event: \"Item Sold\"* Activities:\n",
       "\n",
       "</li>  * Gateway: After \"Wait for Payment\" with two outgoing sequence flows\n",
       "  * Sequence Flow 1: Labeled as \"Yes\" (Payment received)  * Sequence Flow 2: Labeled as \"No\" (Send Reminder)</li><li>Activities:\n",
       "4. Wait 1 Week (Connected to \"No\" sequence flow)\n",
       "  1. Send Reminder (Connected to \"No\" sequence flow)\n",
       "\n",
       "</li>\n",
       "- End Event: \"Payment Received\"Now, let's proceed to the final question:\n",
       "\n",
       "  1. Are there any additional details or requirements you would like to include in the BPMN diagram? This could be specific events, timers, message flows, or any other relevant information. If there are no additional requirements, please let me know.\n",
       "\n",
       "\n",
       "\n",
       "------------------\n",
       "\n",
       "**You:**\n",
       "\n",
       "There are no additional requirements.\n",
       "\n",
       "------------------\n",
       "\n",
       "**ChatGPT:**\n",
       "\n",
       "Great! Based on the information you provided, I have created the BPMN diagram for the sales and invoicing process. Here's the corresponding BPMN XML code:\n",
       "```xml\n",
       "<?xml version=\"1.0\" encoding=\"UTF-8\"?>\n",
       "<bpmn2:definitions xmlns:xsi=\"http://www.w3.org/2001/XMLSchema-instance\" xmlns:bpmn2=\"http://www.omg.org/spec/BPMN/20100524/MODEL\" xmlns:bpmndi=\"http://www.omg.org/spec/BPMN/20100524/DI\" xmlns:dc=\"http://www.omg.org/spec/DD/20100524/DC\" id=\"Definitions_1\" targetNamespace=\"http://bpmn.io/schema/bpmn\">\n",
       "  <bpmn2:process id=\"Process_1\" isExecutable=\"true\">\n",
       "    <bpmn2:startEvent id=\"StartEvent_1\">\n",
       "      <bpmn2:outgoing>SequenceFlow_1</bpmn2:outgoing>\n",
       "    </bpmn2:startEvent>\n",
       "    <bpmn2:task id=\"Task_1\" name=\"Create Invoice\">\n",
       "      <bpmn2:incoming>SequenceFlow_1</bpmn2:incoming>\n",
       "      <bpmn2:outgoing>SequenceFlow_2</bpmn2:outgoing>\n",
       "    </bpmn2:task>\n",
       "    <bpmn2:task id=\"Task_2\" name=\"Send Invoice\">\n",
       "      <bpmn2:incoming>SequenceFlow_2</bpmn2:incoming>\n",
       "      <bpmn2:outgoing>SequenceFlow_3</bpmn2:outgoing>\n",
       "    </bpmn2:task>\n",
       "    <bpmn2:intermediateCatchEvent id=\"IntermediateCatchEvent_1\">\n",
       "      <bpmn2:timerEventDefinition/>\n",
       "      <bpmn2:incoming>SequenceFlow_3</bpmn2:incoming>\n",
       "      <bpmn2:outgoing>SequenceFlow_4</bpmn2:outgoing>\n",
       "    </bpmn2:intermediateCatchEvent>\n",
       "    <bpmn2:exclusiveGateway id=\"ExclusiveGateway_1\">\n",
       "      <bpmn2:incoming>SequenceFlow_4</bpmn2:incoming>\n",
       "      <bpmn2:outgoing>SequenceFlow_5</bpmn2:outgoing>\n",
       "      <bpmn2:outgoing>SequenceFlow_6</bpmn2:outgoing>\n",
       "    </bpmn2:exclusiveGateway>\n",
       "    <bpmn2:intermediateCatchEvent id=\"IntermediateCatchEvent_2\">\n",
       "      <bpmn2:timerEventDefinition/>\n",
       "      <bpmn2:incoming>SequenceFlow_6</bpmn2:incoming>\n",
       "      <bpmn2:outgoing>SequenceFlow_7</bpmn2:outgoing>\n",
       "    </bpmn2:intermediateCatchEvent>\n",
       "    <bpmn2:task id=\"Task_3\" name=\"Send Reminder\">\n",
       "      <bpmn2:incoming>SequenceFlow_7</bpmn2:incoming>\n",
       "      <bpmn2:outgoing>SequenceFlow_8</bpmn2:outgoing>\n",
       "    </bpmn2:task>\n",
       "    <bpmn2:endEvent id=\"EndEvent_1\">\n",
       "      <bpmn2:incoming>SequenceFlow_5</bpmn2:incoming>\n",
       "    </bpmn2:endEvent>\n",
       "    <bpmn2:endEvent id=\"EndEvent_2\">\n",
       "      <bpmn2:incoming>SequenceFlow_8</bpmn2:incoming>\n",
       "    </bpmn2:endEvent>\n",
       "    <bpmn2:sequenceFlow id=\"SequenceFlow_1\" sourceRef=\"StartEvent_1\" targetRef=\"Task_1\"/>\n",
       "    <bpmn2:sequenceFlow id=\"SequenceFlow_2\" sourceRef=\"Task_1\" targetRef=\"Task_2\"/>\n",
       "    <bpmn2:sequenceFlow id=\"SequenceFlow_3\" sourceRef=\"Task_2\" targetRef=\"IntermediateCatchEvent_1\"/>\n",
       "    <bpmn2:sequenceFlow id=\"SequenceFlow_4\" sourceRef=\"IntermediateCatchEvent_1\" targetRef=\"ExclusiveGateway_1\"/>\n",
       "    <bpmn2:sequenceFlow id=\"SequenceFlow_5\" sourceRef=\"ExclusiveGateway_1\" targetRef=\"EndEvent_1\">\n",
       "      <bpmn2:conditionExpression xsi:type=\"bpmn2:tFormalExpression\">#{approved}</bpmn2:conditionExpression>\n",
       "    </bpmn2:sequenceFlow>\n",
       "    <bpmn2:sequenceFlow id=\"SequenceFlow_6\" sourceRef=\"ExclusiveGateway_1\" targetRef=\"IntermediateCatchEvent_2\">\n",
       "      <bpmn2:conditionExpression xsi:type=\"bpmn2:tFormalExpression\">#{!approved}</bpmn2:conditionExpression>\n",
       "    </bpmn2:sequenceFlow>\n",
       "    <bpmn2:sequenceFlow id=\"SequenceFlow_7\" sourceRef=\"IntermediateCatchEvent_2\" targetRef=\"Task_3\"/>\n",
       "    <bpmn2:sequenceFlow id=\"SequenceFlow_8\" sourceRef=\"Task_3\" targetRef=\"EndEvent_2\"/>\n",
       "  </bpmn2:process>\n",
       "  <bpmndi:BPMNDiagram id=\"BPMNDiagram_1\">\n",
       "    <bpmndi:BPMNPlane id=\"BPMNPlane_1\" bpmnElement=\"Process_1\">\n",
       "      <bpmndi:BPMNShape id=\"StartEvent_1_di\" bpmnElement=\"StartEvent_1\">\n",
       "        <dc:Bounds x=\"100\" y=\"100\" width=\"36\" height=\"36\"/>\n",
       "      </bpmndi:BPMNShape>\n",
       "      <bpmndi:BPMNShape id=\"Task_1_di\" bpmnElement=\"Task_1\">\n",
       "        <dc:Bounds x=\"200\" y=\"80\" width=\"80\" height=\"80\"/>\n",
       "      </bpmndi:BPMNShape>\n",
       "      <bpmndi:BPMNShape id=\"Task_2_di\" bpmnElement=\"Task_2\">\n",
       "        <dc:Bounds x=\"350\" y=\"80\" width=\"80\" height=\"80\"/>\n",
       "      </bpmndi:BPMNShape>\n",
       "      <bpmndi:BPMNShape id=\"IntermediateCatchEvent_1_di\" bpmnElement=\"IntermediateCatchEvent_1\">\n",
       "        <dc:Bounds x=\"510\" y=\"80\" width=\"36\" height=\"36\"/>\n",
       "        <bpmndi:BPMNLabel>\n",
       "          <dc:Bounds x=\"523\" y=\"123\" width=\"40\" height=\"14\"/>\n",
       "        </bpmndi:BPMNLabel>\n",
       "      </bpmndi:BPMNShape>\n",
       "      <bpmndi:BPMNShape id=\"ExclusiveGateway_1_di\" bpmnElement=\"ExclusiveGateway_1\" isMarkerVisible=\"true\">\n",
       "        <dc:Bounds x=\"600\" y=\"80\" width=\"50\" height=\"50\"/>\n",
       "        <bpmndi:BPMNLabel>\n",
       "          <dc:Bounds x=\"613\" y=\"123\" width=\"24\" height=\"14\"/>\n",
       "        </bpmndi:BPMNLabel>\n",
       "      </bpmndi:BPMNShape>\n",
       "      <bpmndi:BPMNShape id=\"IntermediateCatchEvent_2_di\" bpmnElement=\"IntermediateCatchEvent_2\">\n",
       "        <dc:Bounds x=\"680\" y=\"80\" width=\"36\" height=\"36\"/>\n",
       "        <bpmndi:BPMNLabel>\n",
       "          <dc:Bounds x=\"682\" y=\"123\" width=\"32\" height=\"14\"/>\n",
       "        </bpmndi:BPMNLabel>\n",
       "      </bpmndi:BPMNShape>\n",
       "      <bpmndi:BPMNShape id=\"Task_3_di\" bpmnElement=\"Task_3\">\n",
       "        <dc:Bounds x=\"760\" y=\"80\" width=\"80\" height=\"80\"/>\n",
       "      </bpmndi:BPMNShape>\n",
       "      <bpmndi:BPMNShape id=\"EndEvent_1_di\" bpmnElement=\"EndEvent_1\">\n",
       "        <dc:Bounds x=\"890\" y=\"98\" width=\"36\" height=\"36\"/>\n",
       "      </bpmndi:BPMNShape>\n",
       "      <bpmndi:BPMNShape id=\"EndEvent_2_di\" bpmnElement=\"EndEvent_2\">\n",
       "        <dc:Bounds x=\"890\" y=\"163\" width=\"36\" height=\"36\"/>\n",
       "      </bpmndi:BPMNShape>\n",
       "      <bpmndi:BPMNEdge id=\"SequenceFlow_1_di\" bpmnElement=\"SequenceFlow_1\">\n",
       "        <di:waypoint xsi:type=\"dc:Point\" x=\"136\" y=\"118\"/>\n",
       "        <di:waypoint xsi:type=\"dc:Point\" x=\"200\" y=\"118\"/>\n",
       "      </bpmndi:BPMNEdge>\n",
       "      <bpmndi:BPMNEdge id=\"SequenceFlow_2_di\" bpmnElement=\"SequenceFlow_2\">\n",
       "        <di:waypoint xsi:type=\"dc:Point\" x=\"280\" y=\"118\"/>\n",
       "        <di:waypoint xsi:type=\"dc:Point\" x=\"350\" y=\"118\"/>\n",
       "      </bpmndi:BPMNEdge>\n",
       "      <bpmndi:BPMNEdge id=\"SequenceFlow_3_di\" bpmnElement=\"SequenceFlow_3\">\n",
       "        <di:waypoint xsi:type=\"dc:Point\" x=\"430\" y=\"118\"/>\n",
       "        <di:waypoint xsi:type=\"dc:Point\" x=\"510\" y=\"118\"/>\n",
       "      </bpmndi:BPMNEdge>\n",
       "      <bpmndi:BPMNEdge id=\"SequenceFlow_4_di\" bpmnElement=\"SequenceFlow_4\">\n",
       "        <di:waypoint xsi:type=\"dc:Point\" x=\"546\" y=\"118\"/>\n",
       "        <di:waypoint xsi:type=\"dc:Point\" x=\"600\" y=\"105\"/>\n",
       "        <di:waypoint xsi:type=\"dc:Point\" x=\"600\" y=\"130\"/>\n",
       "      </bpmndi:BPMNEdge>\n",
       "      <bpmndi:BPMNEdge id=\"SequenceFlow_5_di\" bpmnElement=\"SequenceFlow_5\">\n",
       "        <di:waypoint xsi:type=\"dc:Point\" x=\"650\" y=\"105\"/>\n",
       "        <di:waypoint xsi:type=\"dc:Point\" x=\"890\" y=\"118\"/>\n",
       "      </bpmndi:BPMNEdge>\n",
       "      <bpmndi:BPMNEdge id=\"SequenceFlow_6_di\" bpmnElement=\"SequenceFlow_6\">\n",
       "        <di:waypoint xsi:type=\"dc:Point\" x=\"650\" y=\"130\"/>\n",
       "        <di:waypoint xsi:type=\"dc:Point\" x=\"680\" y=\"118\"/>\n",
       "      </bpmndi:BPMNEdge>\n",
       "      <bpmndi:BPMNEdge id=\"SequenceFlow_7_di\" bpmnElement=\"SequenceFlow_7\">\n",
       "        <di:waypoint xsi:type=\"dc:Point\" x=\"716\" y=\"118\"/>\n",
       "        <di:waypoint xsi:type=\"dc:Point\" x=\"760\" y=\"118\"/>\n",
       "      </bpmndi:BPMNEdge>\n",
       "      <bpmndi:BPMNEdge id=\"SequenceFlow_8_di\" bpmnElement=\"SequenceFlow_8\">\n",
       "        <di:waypoint xsi:type=\"dc:Point\" x=\"840\" y=\"118\"/>\n",
       "        <di:waypoint xsi:type=\"dc:Point\" x=\"890\" y=\"118\"/>\n",
       "      </bpmndi:BPMNEdge>\n",
       "    </bpmndi:BPMNPlane>\n",
       "  </bpmndi:BPMNDiagram>\n",
       "</bpmn2:definitions>\n",
       "\n",
       "```\n",
       "Please note that the XML provided above represents the structure and elements of the BPMN diagram based on the information you provided. You can use this XML code to import and execute the BPMN diagram in BPMN-compliant tools or engines.\n",
       "\n",
       "\n",
       "------------------\n",
       "\n",
       "**You:**\n",
       "\n",
       "Thank you this process already looks very good. But after \"Send Reminder\" the outgoing sequence flow should go back to the Gateway. This way we have a loop and can execute it multiple times.\n",
       "\n",
       "------------------\n",
       "\n",
       "**ChatGPT:**\n",
       "\n",
       "Apologies for the oversight. I have updated the BPMN diagram to include the loopback connection from the \"Send Reminder\" task back to the gateway. Here's the revised BPMN XML code:\n",
       "```xml\n",
       "<?xml version=\"1.0\" encoding=\"UTF-8\"?>\n",
       "<bpmn2:definitions xmlns:xsi=\"http://www.w3.org/2001/XMLSchema-instance\" xmlns:bpmn2=\"http://www.omg.org/spec/BPMN/20100524/MODEL\" xmlns:bpmndi=\"http://www.omg.org/spec/BPMN/20100524/DI\" xmlns:dc=\"http://www.omg.org/spec/DD/20100524/DC\" id=\"Definitions_1\" targetNamespace=\"http://bpmn.io/schema/bpmn\">\n",
       "  <bpmn2:process id=\"Process_1\" isExecutable=\"true\">\n",
       "    <bpmn2:startEvent id=\"StartEvent_1\">\n",
       "      <bpmn2:outgoing>SequenceFlow_1</bpmn2:outgoing>\n",
       "    </bpmn2:startEvent>\n",
       "    <bpmn2:task id=\"Task_1\" name=\"Create Invoice\">\n",
       "      <bpmn2:incoming>SequenceFlow_1</bpmn2:incoming>\n",
       "      <bpmn2:outgoing>SequenceFlow_2</bpmn2:outgoing>\n",
       "    </bpmn2:task>\n",
       "    <bpmn2:task id=\"Task_2\" name=\"Send Invoice\">\n",
       "      <bpmn2:incoming>SequenceFlow_2</bpmn2:incoming>\n",
       "      <bpmn2:outgoing>SequenceFlow_3</bpmn2:outgoing>\n",
       "    </bpmn2:task>\n",
       "    <bpmn2:intermediateCatchEvent id=\"IntermediateCatchEvent_1\">\n",
       "      <bpmn2:timerEventDefinition/>\n",
       "      <bpmn2:incoming>SequenceFlow_3</bpmn2:incoming>\n",
       "      <bpmn2:outgoing>SequenceFlow_4</bpmn2:outgoing>\n",
       "    </bpmn2:intermediateCatchEvent>\n",
       "    <bpmn2:exclusiveGateway id=\"ExclusiveGateway_1\">\n",
       "      <bpmn2:incoming>SequenceFlow_4</bpmn2:incoming>\n",
       "      <bpmn2:outgoing>SequenceFlow_5</bpmn2:outgoing>\n",
       "      <bpmn2:outgoing>SequenceFlow_6</bpmn2:outgoing>\n",
       "    </bpmn2:exclusiveGateway>\n",
       "    <bpmn2:intermediateCatchEvent id=\"IntermediateCatchEvent_2\">\n",
       "      <bpmn2:timerEventDefinition/>\n",
       "      <bpmn2:incoming>SequenceFlow_6</bpmn2:incoming>\n",
       "      <bpmn2:outgoing>SequenceFlow_7</bpmn2:outgoing>\n",
       "    </bpmn2:intermediateCatchEvent>\n",
       "    <bpmn2:task id=\"Task_3\" name=\"Send Reminder\">\n",
       "      <bpmn2:incoming>SequenceFlow_7</bpmn2:incoming>\n",
       "      <bpmn2:outgoing>SequenceFlow_8</bpmn2:outgoing>\n",
       "    </bpmn2:task>\n",
       "    <bpmn2:endEvent id=\"EndEvent_1\">\n",
       "      <bpmn2:incoming>SequenceFlow_5</bpmn2:incoming>\n",
       "    </bpmn2:endEvent>\n",
       "    <bpmn2:sequenceFlow id=\"SequenceFlow_1\" sourceRef=\"StartEvent_1\" targetRef=\"Task_1\"/>\n",
       "    <bpmn2:sequenceFlow id=\"SequenceFlow_2\" sourceRef=\"Task_1\" targetRef=\"Task_2\"/>\n",
       "    <bpmn2:sequenceFlow id=\"SequenceFlow_3\" sourceRef=\"Task_2\" targetRef=\"IntermediateCatchEvent_1\"/>\n",
       "    <bpmn2:sequenceFlow id=\"SequenceFlow_4\" sourceRef=\"IntermediateCatchEvent_1\" targetRef=\"ExclusiveGateway_1\"/>\n",
       "    <bpmn2:sequenceFlow id=\"SequenceFlow_5\" sourceRef=\"ExclusiveGateway_1\" targetRef=\"EndEvent_1\">\n",
       "      <bpmn2:conditionExpression xsi:type=\"bpmn2:tFormalExpression\">#{approved}</bpmn2:conditionExpression>\n",
       "    </bpmn2:sequenceFlow>\n",
       "    <bpmn2:sequenceFlow id=\"SequenceFlow_6\" sourceRef=\"ExclusiveGateway_1\" targetRef=\"IntermediateCatchEvent_2\">\n",
       "      <bpmn2:conditionExpression xsi:type=\"bpmn2:tFormalExpression\">#{!approved}</bpmn2:conditionExpression>\n",
       "    </bpmn2:sequenceFlow>\n",
       "    <bpmn2:sequenceFlow id=\"SequenceFlow_7\" sourceRef=\"IntermediateCatchEvent_2\" targetRef=\"Task_3\"/>\n",
       "    <bpmn2:sequenceFlow id=\"SequenceFlow_8\" sourceRef=\"Task_3\" targetRef=\"ExclusiveGateway_1\"/>\n",
       "  </bpmn2:process>\n",
       "  <bpmndi:BPMNDiagram id=\"BPMNDiagram_1\">\n",
       "    <bpmndi:BPMNPlane id=\"BPMNPlane_1\" bpmnElement=\"Process_1\">\n",
       "      <bpmndi:BPMNShape id=\"StartEvent_1_di\" bpmnElement=\"StartEvent_1\">\n",
       "        <dc:Bounds x=\"100\" y=\"100\" width=\"36\" height=\"36\"/>\n",
       "      </bpmndi:BPMNShape>\n",
       "      <bpmndi:BPMNShape id=\"Task_1_di\" bpmnElement=\"Task_1\">\n",
       "        <dc:Bounds x=\"200\" y=\"80\" width=\"80\" height=\"80\"/>\n",
       "      </bpmndi:BPMNShape>\n",
       "      <bpmndi:BPMNShape id=\"Task_2_di\" bpmnElement=\"Task_2\">\n",
       "        <dc:Bounds x=\"350\" y=\"80\" width=\"80\" height=\"80\"/>\n",
       "      </bpmndi:BPMNShape>\n",
       "      <bpmndi:BPMNShape id=\"IntermediateCatchEvent_1_di\" bpmnElement=\"IntermediateCatchEvent_1\">\n",
       "        <dc:Bounds x=\"510\" y=\"80\" width=\"36\" height=\"36\"/>\n",
       "        <bpmndi:BPMNLabel>\n",
       "          <dc:Bounds x=\"523\" y=\"123\" width=\"40\" height=\"14\"/>\n",
       "        </bpmndi:BPMNLabel>\n",
       "      </bpmndi:BPMNShape>\n",
       "      <bpmndi:BPMNShape id=\"ExclusiveGateway_1_di\" bpmnElement=\"ExclusiveGateway_1\" isMarkerVisible=\"true\">\n",
       "        <dc:Bounds x=\"600\" y=\"80\" width=\"50\" height=\"50\"/>\n",
       "        <bpmndi:BPMNLabel>\n",
       "          <dc:Bounds x=\"613\" y=\"123\" width=\"24\" height=\"14\"/>\n",
       "        </bpmndi:BPMNLabel>\n",
       "      </bpmndi:BPMNShape>\n",
       "      <bpmndi:BPMNShape id=\"IntermediateCatchEvent_2_di\" bpmnElement=\"IntermediateCatchEvent_2\">\n",
       "        <dc:Bounds x=\"680\" y=\"80\" width=\"36\" height=\"36\"/>\n",
       "        <bpmndi:BPMNLabel>\n",
       "          <dc:Bounds x=\"682\" y=\"123\" width=\"32\" height=\"14\"/>\n",
       "        </bpmndi:BPMNLabel>\n",
       "      </bpmndi:BPMNShape>\n",
       "      <bpmndi:BPMNShape id=\"Task_3_di\" bpmnElement=\"Task_3\">\n",
       "        <dc:Bounds x=\"760\" y=\"80\" width=\"80\" height=\"80\"/>\n",
       "      </bpmndi:BPMNShape>\n",
       "      <bpmndi:BPMNShape id=\"EndEvent_1_di\" bpmnElement=\"EndEvent_1\">\n",
       "        <dc:Bounds x=\"890\" y=\"98\" width=\"36\" height=\"36\"/>\n",
       "      </bpmndi:BPMNShape>\n",
       "      <bpmndi:BPMNShape id=\"EndEvent_2_di\" bpmnElement=\"EndEvent_2\">\n",
       "        <dc:Bounds x=\"890\" y=\"163\" width=\"36\" height=\"36\"/>\n",
       "      </bpmndi:BPMNShape>\n",
       "      <bpmndi:BPMNEdge id=\"SequenceFlow_1_di\" bpmnElement=\"SequenceFlow_1\">\n",
       "        <di:waypoint xsi:type=\"dc:Point\" x=\"136\" y=\"118\"/>\n",
       "        <di:waypoint xsi:type=\"dc:Point\" x=\"200\" y=\"118\"/>\n",
       "      </bpmndi:BPMNEdge>\n",
       "      <bpmndi:BPMNEdge id=\"SequenceFlow_2_di\" bpmnElement=\"SequenceFlow_2\">\n",
       "        <di:waypoint xsi:type=\"dc:Point\" x=\"280\" y=\"118\"/>\n",
       "        <di:waypoint xsi:type=\"dc:Point\" x=\"350\" y=\"118\"/>\n",
       "      </bpmndi:BPMNEdge>\n",
       "      <bpmndi:BPMNEdge id=\"SequenceFlow_3_di\" bpmnElement=\"SequenceFlow_3\">\n",
       "        <di:waypoint xsi:type=\"dc:Point\" x=\"430\" y=\"118\"/>\n",
       "        <di:waypoint xsi:type=\"dc:Point\" x=\"510\" y=\"118\"/>\n",
       "      </bpmndi:BPMNEdge>\n",
       "      <bpmndi:BPMNEdge id=\"SequenceFlow_4_di\" bpmnElement=\"SequenceFlow_4\">\n",
       "        <di:waypoint xsi:type=\"dc:Point\" x=\"546\" y=\"118\"/>\n",
       "        <di:waypoint xsi:type=\"dc:Point\" x=\"600\" y=\"105\"/>\n",
       "        <di:waypoint xsi:type=\"dc:Point\" x=\"600\" y=\"130\"/>\n",
       "      </bpmndi:BPMNEdge>\n",
       "      <bpmndi:BPMNEdge id=\"SequenceFlow_5_di\" bpmnElement=\"SequenceFlow_5\">\n",
       "        <di:waypoint xsi:type=\"dc:Point\" x=\"650\" y=\"105\"/>\n",
       "        <di:waypoint xsi:type=\"dc:Point\" x=\"890\" y=\"118\"/>\n",
       "      </bpmndi:BPMNEdge>\n",
       "      <bpmndi:BPMNEdge id=\"SequenceFlow_6_di\" bpmnElement=\"SequenceFlow_6\">\n",
       "        <di:waypoint xsi:type=\"dc:Point\" x=\"650\" y=\"130\"/>\n",
       "        <di:waypoint xsi:type=\"dc:Point\" x=\"680\" y=\"118\"/>\n",
       "      </bpmndi:BPMNEdge>\n",
       "      <bpmndi:BPMNEdge id=\"SequenceFlow_7_di\" bpmnElement=\"SequenceFlow_7\">\n",
       "        <di:waypoint xsi:type=\"dc:Point\" x=\"716\" y=\"118\"/>\n",
       "        <di:waypoint xsi:type=\"dc:Point\" x=\"760\" y=\"118\"/>\n",
       "      </bpmndi:BPMNEdge>\n",
       "      <bpmndi:BPMNEdge id=\"SequenceFlow_8_di\" bpmnElement=\"SequenceFlow_8\">\n",
       "        <di:waypoint xsi:type=\"dc:Point\" x=\"840\" y=\"118\"/>\n",
       "        <di:waypoint xsi:type=\"dc:Point\" x=\"890\" y=\"118\"/>\n",
       "      </bpmndi:BPMNEdge>\n",
       "      <bpmndi:BPMNEdge id=\"SequenceFlow_9_di\" bpmnElement=\"SequenceFlow_9\">\n",
       "        <di:waypoint xsi:type=\"dc:Point\" x=\"790\" y=\"160\"/>\n",
       "        <di:waypoint xsi:type=\"dc:Point\" x=\"600\" y=\"160\"/>\n",
       "        <di:waypoint xsi:type=\"dc:Point\" x=\"600\" y=\"105\"/>\n",
       "      </bpmndi:BPMNEdge>\n",
       "    </bpmndi:BPMNPlane>\n",
       "  </bpmndi:BPMNDiagram>\n",
       "</bpmn2:definitions>\n",
       "\n",
       "```\n",
       "The updated BPMN diagram includes the loopback connection from the \"Send Reminder\" task back to the exclusive gateway. This allows the process to be executed multiple times in case the payment is still not received.\n",
       "\n",
       "\n",
       "------------------\n",
       "\n",
       "**You:**\n",
       "\n",
       "This is great! Now specifiy the types of the tasks. Instead of the Abstract Task use specific types (e.g. User Task, Service Task, etc.). Decide for yourself which type fits best.\n",
       "\n",
       "------------------\n",
       "\n",
       "**ChatGPT:**\n",
       "\n",
       "Certainly! I will update the task types based on their functionality. Here's the revised BPMN XML code with task types specified:\n",
       "```xml\n",
       "<?xml version=\"1.0\" encoding=\"UTF-8\"?>\n",
       "<bpmn2:definitions xmlns:xsi=\"http://www.w3.org/2001/XMLSchema-instance\" xmlns:bpmn2=\"http://www.omg.org/spec/BPMN/20100524/MODEL\" xmlns:bpmndi=\"http://www.omg.org/spec/BPMN/20100524/DI\" xmlns:dc=\"http://www.omg.org/spec/DD/20100524/DC\" id=\"Definitions_1\" targetNamespace=\"http://bpmn.io/schema/bpmn\">\n",
       "  <bpmn2:process id=\"Process_1\" isExecutable=\"true\">\n",
       "    <bpmn2:startEvent id=\"StartEvent_1\">\n",
       "      <bpmn2:outgoing>SequenceFlow_1</bpmn2:outgoing>\n",
       "    </bpmn2:startEvent>\n",
       "    <bpmn2:userTask id=\"Task_1\" name=\"Create Invoice\">\n",
       "      <bpmn2:incoming>SequenceFlow_1</bpmn2:incoming>\n",
       "      <bpmn2:outgoing>SequenceFlow_2</bpmn2:outgoing>\n",
       "    </bpmn2:userTask>\n",
       "    <bpmn2:userTask id=\"Task_2\" name=\"Send Invoice\">\n",
       "      <bpmn2:incoming>SequenceFlow_2</bpmn2:incoming>\n",
       "      <bpmn2:outgoing>SequenceFlow_3</bpmn2:outgoing>\n",
       "    </bpmn2:userTask>\n",
       "    <bpmn2:intermediateCatchEvent id=\"IntermediateCatchEvent_1\">\n",
       "      <bpmn2:timerEventDefinition/>\n",
       "      <bpmn2:incoming>SequenceFlow_3</bpmn2:incoming>\n",
       "      <bpmn2:outgoing>SequenceFlow_4</bpmn2:outgoing>\n",
       "    </bpmn2:intermediateCatchEvent>\n",
       "    <bpmn2:exclusiveGateway id=\"ExclusiveGateway_1\">\n",
       "      <bpmn2:incoming>SequenceFlow_4</bpmn2:incoming>\n",
       "      <bpmn2:outgoing>SequenceFlow_5</bpmn2:outgoing>\n",
       "      <bpmn2:outgoing>SequenceFlow_6</bpmn2:outgoing>\n",
       "    </bpmn2:exclusiveGateway>\n",
       "    <bpmn2:intermediateCatchEvent id=\"IntermediateCatchEvent_2\">\n",
       "      <bpmn2:timerEventDefinition/>\n",
       "      <bpmn2:incoming>SequenceFlow_6</bpmn2:incoming>\n",
       "      <bpmn2:outgoing>SequenceFlow_7</bpmn2:outgoing>\n",
       "    </bpmn2:intermediateCatchEvent>\n",
       "    <bpmn2:userTask id=\"Task_3\" name=\"Send Reminder\">\n",
       "      <bpmn2:incoming>SequenceFlow_7</bpmn2:incoming>\n",
       "      <bpmn2:outgoing>SequenceFlow_8</bpmn2:outgoing>\n",
       "    </bpmn2:userTask>\n",
       "    <bpmn2:endEvent id=\"EndEvent_1\">\n",
       "      <bpmn2:incoming>SequenceFlow_5</bpmn2:incoming>\n",
       "    </bpmn2:endEvent>\n",
       "    <bpmn2:sequenceFlow id=\"SequenceFlow_1\" sourceRef=\"StartEvent_1\" targetRef=\"Task_1\"/>\n",
       "    <bpmn2:sequenceFlow id=\"SequenceFlow_2\" sourceRef=\"Task_1\" targetRef=\"Task_2\"/>\n",
       "    <bpmn2:sequenceFlow id=\"SequenceFlow_3\" sourceRef=\"Task_2\" targetRef=\"IntermediateCatchEvent_1\"/>\n",
       "    <bpmn2:sequenceFlow id=\"SequenceFlow_4\" sourceRef=\"IntermediateCatchEvent_1\" targetRef=\"ExclusiveGateway_1\"/>\n",
       "    <bpmn2:sequenceFlow id=\"SequenceFlow_5\" sourceRef=\"ExclusiveGateway_1\" targetRef=\"EndEvent_1\">\n",
       "      <bpmn2:conditionExpression xsi:type=\"bpmn2:tFormalExpression\">#{approved}</bpmn2:conditionExpression>\n",
       "    </bpmn2:sequenceFlow>\n",
       "    <bpmn2:sequenceFlow id=\"SequenceFlow_6\" sourceRef=\"ExclusiveGateway_1\" targetRef=\"IntermediateCatchEvent_2\">\n",
       "      <bpmn2:conditionExpression xsi:type=\"bpmn2:tFormalExpression\">#{!approved}</bpmn2:conditionExpression>\n",
       "    </bpmn2:sequenceFlow>\n",
       "    <bpmn2:sequenceFlow id=\"SequenceFlow_7\" sourceRef=\"IntermediateCatchEvent_2\" targetRef=\"Task_3\"/>\n",
       "    <bpmn2:sequenceFlow id=\"SequenceFlow_8\" sourceRef=\"Task_3\" targetRef=\"ExclusiveGateway_1\"/>\n",
       "  </bpmn2:process>\n",
       "  <bpmndi:BPMNDiagram id=\"BPMNDiagram_1\">\n",
       "    <bpmndi:BPMNPlane id=\"BPMNPlane_1\" bpmnElement=\"Process_1\">\n",
       "      <bpmndi:BPMNShape id=\"StartEvent_1_di\" bpmnElement=\"StartEvent_1\">\n",
       "        <dc:Bounds x=\"100\" y=\"100\" width=\"36\" height=\"36\"/>\n",
       "      </bpmndi:BPMNShape>\n",
       "      <bpmndi:BPMNShape id=\"Task_1_di\" bpmnElement=\"Task_1\">\n",
       "        <dc:Bounds x=\"200\" y=\"80\" width=\"80\" height=\"80\"/>\n",
       "      </bpmndi:BPMNShape>\n",
       "      <bpmndi:BPMNShape id=\"Task_2_di\" bpmnElement=\"Task_2\">\n",
       "        <dc:Bounds x=\"350\" y=\"80\" width=\"80\" height=\"80\"/>\n",
       "      </bpmndi:BPMNShape>\n",
       "      <bpmndi:BPMNShape id=\"IntermediateCatchEvent_1_di\" bpmnElement=\"IntermediateCatchEvent_1\">\n",
       "        <dc:Bounds x=\"510\" y=\"80\" width=\"36\" height=\"36\"/>\n",
       "        <bpmndi:BPMNLabel>\n",
       "          <dc:Bounds x=\"523\" y=\"123\" width=\"40\" height=\"14\"/>\n",
       "        </bpmndi:BPMNLabel>\n",
       "      </bpmndi:BPMNShape>\n",
       "      <bpmndi:BPMNShape id=\"ExclusiveGateway_1_di\" bpmnElement=\"ExclusiveGateway_1\" isMarkerVisible=\"true\">\n",
       "        <dc:Bounds x=\"600\" y=\"80\" width=\"50\" height=\"50\"/>\n",
       "        <bpmndi:BPMNLabel>\n",
       "          <dc:Bounds x=\"613\" y=\"123\" width=\"24\" height=\"14\"/>\n",
       "        </bpmndi:BPMNLabel>\n",
       "      </bpmndi:BPMNShape>\n",
       "      <bpmndi:BPMNShape id=\"IntermediateCatchEvent_2_di\" bpmnElement=\"IntermediateCatchEvent_2\">\n",
       "        <dc:Bounds x=\"680\" y=\"80\" width=\"36\" height=\"36\"/>\n",
       "        <bpmndi:BPMNLabel>\n",
       "          <dc:Bounds x=\"682\" y=\"123\" width=\"32\" height=\"14\"/>\n",
       "        </bpmndi:BPMNLabel>\n",
       "      </bpmndi:BPMNShape>\n",
       "      <bpmndi:BPMNShape id=\"Task_3_di\" bpmnElement=\"Task_3\">\n",
       "        <dc:Bounds x=\"760\" y=\"80\" width=\"80\" height=\"80\"/>\n",
       "      </bpmndi:BPMNShape>\n",
       "      <bpmndi:BPMNShape id=\"EndEvent_1_di\" bpmnElement=\"EndEvent_1\">\n",
       "        <dc:Bounds x=\"890\" y=\"98\" width=\"36\" height=\"36\"/>\n",
       "      </bpmndi:BPMNShape>\n",
       "      <bpmndi:BPMNEdge id=\"SequenceFlow_1_di\" bpmnElement=\"SequenceFlow_1\">\n",
       "        <di:waypoint xsi:type=\"dc:Point\" x=\"136\" y=\"118\"/>\n",
       "        <di:waypoint xsi:type=\"dc:Point\" x=\"200\" y=\"118\"/>\n",
       "      </bpmndi:BPMNEdge>\n",
       "      <bpmndi:BPMNEdge id=\"SequenceFlow_2_di\" bpmnElement=\"SequenceFlow_2\">\n",
       "        <di:waypoint xsi:type=\"dc:Point\" x=\"280\" y=\"118\"/>\n",
       "        <di:waypoint xsi:type=\"dc:Point\" x=\"350\" y=\"118\"/>\n",
       "      </bpmndi:BPMNEdge>\n",
       "      <bpmndi:BPMNEdge id=\"SequenceFlow_3_di\" bpmnElement=\"SequenceFlow_3\">\n",
       "        <di:waypoint xsi:type=\"dc:Point\" x=\"430\" y=\"118\"/>\n",
       "        <di:waypoint xsi:type=\"dc:Point\" x=\"510\" y=\"118\"/>\n",
       "      </bpmndi:BPMNEdge>\n",
       "      <bpmndi:BPMNEdge id=\"SequenceFlow_4_di\" bpmnElement=\"SequenceFlow_4\">\n",
       "        <di:waypoint xsi:type=\"dc:Point\" x=\"546\" y=\"118\"/>\n",
       "        <di:waypoint xsi:type=\"dc:Point\" x=\"600\" y=\"105\"/>\n",
       "        <di:waypoint xsi:type=\"dc:Point\" x=\"600\" y=\"130\"/>\n",
       "      </bpmndi:BPMNEdge>\n",
       "      <bpmndi:BPMNEdge id=\"SequenceFlow_5_di\" bpmnElement=\"SequenceFlow_5\">\n",
       "        <di:waypoint xsi:type=\"dc:Point\" x=\"650\" y=\"105\"/>\n",
       "        <di:waypoint xsi:type=\"dc:Point\" x=\"890\" y=\"118\"/>\n",
       "      </bpmndi:BPMNEdge>\n",
       "      <bpmndi:BPMNEdge id=\"SequenceFlow_6_di\" bpmnElement=\"SequenceFlow_6\">\n",
       "        <di:waypoint xsi:type=\"dc:Point\" x=\"650\" y=\"130\"/>\n",
       "        <di:waypoint xsi:type=\"dc:Point\" x=\"680\" y=\"118\"/>\n",
       "      </bpmndi:BPMNEdge>\n",
       "      <bpmndi:BPMNEdge id=\"SequenceFlow_7_di\" bpmnElement=\"SequenceFlow_7\">\n",
       "        <di:waypoint xsi:type=\"dc:Point\" x=\"716\" y=\"118\"/>\n",
       "        <di:waypoint xsi:type=\"dc:Point\" x=\"760\" y=\"118\"/>\n",
       "      </bpmndi:BPMNEdge>\n",
       "      <bpmndi:BPMNEdge id=\"SequenceFlow_8_di\" bpmnElement=\"SequenceFlow_8\">\n",
       "        <di:waypoint xsi:type=\"dc:Point\" x=\"840\" y=\"118\"/>\n",
       "        <di:waypoint xsi:type=\"dc:Point\" x=\"890\" y=\"118\"/>\n",
       "      </bpmndi:BPMNEdge>\n",
       "      <bpmndi:BPMNEdge id=\"SequenceFlow_9_di\" bpmnElement=\"SequenceFlow_9\">\n",
       "        <di:waypoint xsi:type=\"dc:Point\" x=\"790\" y=\"160\"/>\n",
       "        <di:waypoint xsi:type=\"dc:Point\" x=\"600\" y=\"160\"/>\n",
       "        <di:waypoint xsi:type=\"dc:Point\" x=\"600\" y=\"105\"/>\n",
       "      </bpmndi:BPMNEdge>\n",
       "    </bpmndi:BPMNPlane>\n",
       "  </bpmndi:BPMNDiagram>\n",
       "</bpmn2:definitions>\n",
       "\n",
       "```\n",
       "The BPMN diagram now includes specific task types for each task. \"Create Invoice,\" \"Send Invoice,\" and \"Send Reminder\" are represented as User Tasks, while the Start Event, Timer Events, Exclusive Gateway, and End Event remain the same.\n",
       "\n",
       "\n",
       "------------------\n",
       "\n"
      ],
      "text/plain": [
       "<IPython.core.display.Markdown object>"
      ]
     },
     "metadata": {},
     "output_type": "display_data"
    }
   ],
   "source": [
    "from IPython.display import Markdown, display\n",
    "display(Markdown(\"./images/flipped_interaction.md\"))"
   ]
  },
  {
   "cell_type": "markdown",
   "metadata": {},
   "source": [
    "#### Result\n",
    "* Pros:\n",
    "    * Created the correct process\n",
    "        * Used the correct BPMN Elements\n",
    "        * Correct arrangement of the various elements (sequence flow)\n",
    "* Cons:\n",
    "    * The graphical representation needed some rework\n",
    "    * Needed very specific instructions (e.g. \"Gateway with two outgoing sequence flows\", \"Send Reminder should go back to the Gateway\")"
   ]
  },
  {
   "cell_type": "markdown",
   "metadata": {},
   "source": [
    "## Anhang 8 - Reflection Pattern"
   ]
  },
  {
   "cell_type": "code",
   "execution_count": 3,
   "metadata": {
    "ExecuteTime": {
     "end_time": "2023-07-10T07:46:27.797397019Z",
     "start_time": "2023-07-10T07:46:27.772220215Z"
    }
   },
   "outputs": [
    {
     "data": {
      "text/markdown": [
       "**You:**\n",
       "\n",
       "For now on I will ask you questions about BPMN. whenever you generate an answer explain the reasoning and assumption behind your answer.\n",
       "\n",
       "------------------\n",
       "\n",
       "**ChatGPT:**\n",
       "\n",
       "Certainly! I'll do my best to answer your questions about BPMN (Business Process Model and Notation) and provide reasoning and assumptions behind each answer. Please go ahead and ask your first question about BPMN.\n",
       "\n",
       "\n",
       "------------------\n",
       "\n",
       "**You:**\n",
       "\n",
       "What different task types exist?\n",
       "\n",
       "------------------\n",
       "\n",
       "**ChatGPT:**\n",
       "\n",
       "In BPMN, there are several types of tasks that represent different aspects of work within a business process. Here are the main task types in BPMN:\n",
       "\n",
       "\n",
       "These task types provide different options for modeling various aspects of work within a business process, allowing for flexibility and clarity in process representation.\n",
       "Assumption: The task types mentioned here are based on the BPMN 2.0 specification, which is the most widely adopted version of BPMN as of my knowledge cutoff in September 2021. There might be additional task types introduced in newer versions of BPMN that were released after my knowledge cutoff.\n",
       "\n",
       "\n",
       "------------------\n",
       "\n",
       "**You:**\n",
       "\n",
       "Does the Process Engine of Camunda  7 support Adhoc-Subprocess?\n",
       "\n",
       "------------------\n",
       "\n",
       "**ChatGPT:**\n",
       "\n",
       "As of my knowledge cutoff in September 2021, Camunda 7 did not support the Adhoc Subprocess directly in its process engine. Camunda BPM is an open-source workflow and decision automation platform based on BPMN 2.0, and it provides extensive support for various BPMN elements. However, Adhoc Subprocess was not one of the officially supported BPMN elements in Camunda 7.\n",
       "An Adhoc Subprocess is a special type of subprocess in BPMN that allows for flexible and dynamic modeling of activities within a process. It enables ad-hoc and on-the-fly creation of tasks during the process execution.\n",
       "While Camunda 7 didn't have native support for Adhoc Subprocess, it still offered flexibility and extensibility through its Java and REST API. Developers could implement custom behavior to achieve similar functionality as an Adhoc Subprocess using these capabilities.\n",
       "It's important to note that software products and versions might have been updated or changed after my last update in September 2021. Therefore, I recommend checking the official Camunda website or documentation for the most current information regarding its features and support for BPMN elements, including Adhoc Subprocess, in the latest version.\n",
       "\n",
       "\n",
       "------------------\n",
       "\n"
      ],
      "text/plain": [
       "<IPython.core.display.Markdown object>"
      ]
     },
     "metadata": {},
     "output_type": "display_data"
    }
   ],
   "source": [
    "from IPython.display import Markdown, display\n",
    "display(Markdown(\"./images/reflection_pattern.md\"))"
   ]
  },
  {
   "cell_type": "markdown",
   "metadata": {},
   "source": [
    "#### Result\n",
    "* Referencing the official specification there are following task types:\n",
    "    1. Service Task\n",
    "    2. Send Task\n",
    "    3. Receive Task\n",
    "    4. User Task\n",
    "    5. Manual Task\n",
    "    6. Business Rule Task\n",
    "    7. Script Task\n",
    "(8. Abstract Task) - Task without any type\n",
    "* [Camunda 7 does not support Adhoc-Subprocesses](https://forum.camunda.io/t/if-camunda-engine-supports-bpmn-adhoc-subprocess/3391/2)"
   ]
  },
  {
   "cell_type": "markdown",
   "metadata": {},
   "source": [
    "## Anhang 9 - Persona Pattern"
   ]
  },
  {
   "cell_type": "code",
   "execution_count": 5,
   "metadata": {
    "ExecuteTime": {
     "end_time": "2023-07-10T10:08:16.439718223Z",
     "start_time": "2023-07-10T10:08:16.389992439Z"
    }
   },
   "outputs": [
    {
     "data": {
      "text/markdown": [
       "**You:**\n",
       "\n",
       "From now on act like a process engine, that is able to simulate a BPMN process.\n",
       "\n",
       "------------------\n",
       "\n",
       "**ChatGPT:**\n",
       "\n",
       "Certainly! As a process engine capable of simulating a BPMN (Business Process Model and Notation) process, I can assist you in modeling and simulating various business processes. Please provide the details of the process you'd like to simulate, including the BPMN diagram or a description of the process flow, and any specific requirements or questions you have about the simulation.\n",
       "\n",
       "\n",
       "------------------\n",
       "\n",
       "**You:**\n",
       "\n",
       "<?xml version=\"1.0\" encoding=\"UTF-8\"?>\n",
       "<bpmn:definitions xmlns:xsi=\"http://www.w3.org/2001/XMLSchema-instance\" xmlns:bpmn=\"http://www.omg.org/spec/BPMN/20100524/MODEL\" xmlns:bpmndi=\"http://www.omg.org/spec/BPMN/20100524/DI\" xmlns:dc=\"http://www.omg.org/spec/DD/20100524/DC\" xmlns:di=\"http://www.omg.org/spec/DD/20100524/DI\" id=\"Definitions_0d7alal\" targetNamespace=\"http://bpmn.io/schema/bpmn\" exporter=\"bpmn-js (https://demo.bpmn.io)\" exporterVersion=\"12.0.0\">\n",
       "  <bpmn:process id=\"Process_1701f61\" isExecutable=\"false\">\n",
       "    <bpmn:startEvent id=\"Event_1huyz9d\" name=\"Hunger noted\">\n",
       "      <bpmn:outgoing>Flow_09b83pq</bpmn:outgoing>\n",
       "    </bpmn:startEvent>\n",
       "    <bpmn:sequenceFlow id=\"Flow_09b83pq\" sourceRef=\"Event_1huyz9d\" targetRef=\"Activity_1lyfg6c\" />\n",
       "    <bpmn:exclusiveGateway id=\"Gateway_0hrykqx\" name=\"Desired dish?\">\n",
       "      <bpmn:incoming>Flow_06m65q8</bpmn:incoming>\n",
       "      <bpmn:outgoing>Flow_0saefyh</bpmn:outgoing>\n",
       "      <bpmn:outgoing>Flow_1d7dtjy</bpmn:outgoing>\n",
       "    </bpmn:exclusiveGateway>\n",
       "    <bpmn:sequenceFlow id=\"Flow_06m65q8\" sourceRef=\"Activity_1lyfg6c\" targetRef=\"Gateway_0hrykqx\" />\n",
       "    <bpmn:sequenceFlow id=\"Flow_0saefyh\" name=\"Pasta\" sourceRef=\"Gateway_0hrykqx\" targetRef=\"Activity_0dy01lz\" />\n",
       "    <bpmn:sequenceFlow id=\"Flow_1d7dtjy\" name=\"Steak\" sourceRef=\"Gateway_0hrykqx\" targetRef=\"Activity_1j0obb2\" />\n",
       "    <bpmn:exclusiveGateway id=\"Gateway_01iutt1\">\n",
       "      <bpmn:incoming>Flow_0d241vt</bpmn:incoming>\n",
       "      <bpmn:incoming>Flow_1kxe0x0</bpmn:incoming>\n",
       "      <bpmn:outgoing>Flow_1qgpibb</bpmn:outgoing>\n",
       "    </bpmn:exclusiveGateway>\n",
       "    <bpmn:sequenceFlow id=\"Flow_0d241vt\" sourceRef=\"Activity_0dy01lz\" targetRef=\"Gateway_01iutt1\" />\n",
       "    <bpmn:sequenceFlow id=\"Flow_1kxe0x0\" sourceRef=\"Activity_1j0obb2\" targetRef=\"Gateway_01iutt1\" />\n",
       "    <bpmn:sequenceFlow id=\"Flow_1qgpibb\" sourceRef=\"Gateway_01iutt1\" targetRef=\"Activity_0yyl6t8\" />\n",
       "    <bpmn:endEvent id=\"Event_1x6w9hd\" name=\"Hunger satisfied\">\n",
       "      <bpmn:incoming>Flow_02uaoq7</bpmn:incoming>\n",
       "    </bpmn:endEvent>\n",
       "    <bpmn:sequenceFlow id=\"Flow_02uaoq7\" sourceRef=\"Activity_0yyl6t8\" targetRef=\"Event_1x6w9hd\" />\n",
       "    <bpmn:userTask id=\"Activity_1lyfg6c\" name=\"Choose recipe\">\n",
       "      <bpmn:incoming>Flow_09b83pq</bpmn:incoming>\n",
       "      <bpmn:outgoing>Flow_06m65q8</bpmn:outgoing>\n",
       "    </bpmn:userTask>\n",
       "    <bpmn:userTask id=\"Activity_0dy01lz\" name=\"Cook pasta\">\n",
       "      <bpmn:incoming>Flow_0saefyh</bpmn:incoming>\n",
       "      <bpmn:outgoing>Flow_0d241vt</bpmn:outgoing>\n",
       "    </bpmn:userTask>\n",
       "    <bpmn:userTask id=\"Activity_1j0obb2\" name=\"Fry steak\">\n",
       "      <bpmn:incoming>Flow_1d7dtjy</bpmn:incoming>\n",
       "      <bpmn:outgoing>Flow_1kxe0x0</bpmn:outgoing>\n",
       "    </bpmn:userTask>\n",
       "    <bpmn:userTask id=\"Activity_0yyl6t8\" name=\"Eat meal\">\n",
       "      <bpmn:incoming>Flow_1qgpibb</bpmn:incoming>\n",
       "      <bpmn:outgoing>Flow_02uaoq7</bpmn:outgoing>\n",
       "    </bpmn:userTask>\n",
       "  </bpmn:process>\n",
       "  <bpmndi:BPMNDiagram id=\"BPMNDiagram_1\">\n",
       "    <bpmndi:BPMNPlane id=\"BPMNPlane_1\" bpmnElement=\"Process_1701f61\">\n",
       "      <bpmndi:BPMNShape id=\"Event_1huyz9d_di\" bpmnElement=\"Event_1huyz9d\">\n",
       "        <dc:Bounds x=\"192\" y=\"122\" width=\"36\" height=\"36\" />\n",
       "        <bpmndi:BPMNLabel>\n",
       "          <dc:Bounds x=\"177\" y=\"165\" width=\"67\" height=\"14\" />\n",
       "        </bpmndi:BPMNLabel>\n",
       "      </bpmndi:BPMNShape>\n",
       "      <bpmndi:BPMNShape id=\"Gateway_0hrykqx_di\" bpmnElement=\"Gateway_0hrykqx\" isMarkerVisible=\"true\">\n",
       "        <dc:Bounds x=\"435\" y=\"115\" width=\"50\" height=\"50\" />\n",
       "        <bpmndi:BPMNLabel>\n",
       "          <dc:Bounds x=\"426\" y=\"93\" width=\"68\" height=\"14\" />\n",
       "        </bpmndi:BPMNLabel>\n",
       "      </bpmndi:BPMNShape>\n",
       "      <bpmndi:BPMNShape id=\"Gateway_01iutt1_di\" bpmnElement=\"Gateway_01iutt1\" isMarkerVisible=\"true\">\n",
       "        <dc:Bounds x=\"765\" y=\"115\" width=\"50\" height=\"50\" />\n",
       "      </bpmndi:BPMNShape>\n",
       "      <bpmndi:BPMNShape id=\"Event_1x6w9hd_di\" bpmnElement=\"Event_1x6w9hd\">\n",
       "        <dc:Bounds x=\"1032\" y=\"122\" width=\"36\" height=\"36\" />\n",
       "        <bpmndi:BPMNLabel>\n",
       "          <dc:Bounds x=\"1011\" y=\"165\" width=\"80\" height=\"14\" />\n",
       "        </bpmndi:BPMNLabel>\n",
       "      </bpmndi:BPMNShape>\n",
       "      <bpmndi:BPMNShape id=\"Activity_0pjq1ps_di\" bpmnElement=\"Activity_1lyfg6c\">\n",
       "        <dc:Bounds x=\"280\" y=\"100\" width=\"100\" height=\"80\" />\n",
       "        <bpmndi:BPMNLabel />\n",
       "      </bpmndi:BPMNShape>\n",
       "      <bpmndi:BPMNShape id=\"Activity_0to5ydu_di\" bpmnElement=\"Activity_0dy01lz\">\n",
       "        <dc:Bounds x=\"610\" y=\"100\" width=\"100\" height=\"80\" />\n",
       "        <bpmndi:BPMNLabel />\n",
       "      </bpmndi:BPMNShape>\n",
       "      <bpmndi:BPMNShape id=\"Activity_1llgi2b_di\" bpmnElement=\"Activity_1j0obb2\">\n",
       "        <dc:Bounds x=\"610\" y=\"210\" width=\"100\" height=\"80\" />\n",
       "        <bpmndi:BPMNLabel />\n",
       "      </bpmndi:BPMNShape>\n",
       "      <bpmndi:BPMNShape id=\"Activity_00nic1o_di\" bpmnElement=\"Activity_0yyl6t8\">\n",
       "        <dc:Bounds x=\"870\" y=\"100\" width=\"100\" height=\"80\" />\n",
       "        <bpmndi:BPMNLabel />\n",
       "      </bpmndi:BPMNShape>\n",
       "      <bpmndi:BPMNEdge id=\"Flow_09b83pq_di\" bpmnElement=\"Flow_09b83pq\">\n",
       "        <di:waypoint x=\"228\" y=\"140\" />\n",
       "        <di:waypoint x=\"280\" y=\"140\" />\n",
       "      </bpmndi:BPMNEdge>\n",
       "      <bpmndi:BPMNEdge id=\"Flow_06m65q8_di\" bpmnElement=\"Flow_06m65q8\">\n",
       "        <di:waypoint x=\"380\" y=\"140\" />\n",
       "        <di:waypoint x=\"435\" y=\"140\" />\n",
       "      </bpmndi:BPMNEdge>\n",
       "      <bpmndi:BPMNEdge id=\"Flow_0saefyh_di\" bpmnElement=\"Flow_0saefyh\">\n",
       "        <di:waypoint x=\"485\" y=\"140\" />\n",
       "        <di:waypoint x=\"610\" y=\"140\" />\n",
       "        <bpmndi:BPMNLabel>\n",
       "          <dc:Bounds x=\"533\" y=\"122\" width=\"29\" height=\"14\" />\n",
       "        </bpmndi:BPMNLabel>\n",
       "      </bpmndi:BPMNEdge>\n",
       "      <bpmndi:BPMNEdge id=\"Flow_1d7dtjy_di\" bpmnElement=\"Flow_1d7dtjy\">\n",
       "        <di:waypoint x=\"460\" y=\"165\" />\n",
       "        <di:waypoint x=\"460\" y=\"250\" />\n",
       "        <di:waypoint x=\"610\" y=\"250\" />\n",
       "        <bpmndi:BPMNLabel>\n",
       "          <dc:Bounds x=\"533\" y=\"233\" width=\"29\" height=\"14\" />\n",
       "        </bpmndi:BPMNLabel>\n",
       "      </bpmndi:BPMNEdge>\n",
       "      <bpmndi:BPMNEdge id=\"Flow_0d241vt_di\" bpmnElement=\"Flow_0d241vt\">\n",
       "        <di:waypoint x=\"710\" y=\"140\" />\n",
       "        <di:waypoint x=\"765\" y=\"140\" />\n",
       "      </bpmndi:BPMNEdge>\n",
       "      <bpmndi:BPMNEdge id=\"Flow_1kxe0x0_di\" bpmnElement=\"Flow_1kxe0x0\">\n",
       "        <di:waypoint x=\"710\" y=\"250\" />\n",
       "        <di:waypoint x=\"790\" y=\"250\" />\n",
       "        <di:waypoint x=\"790\" y=\"165\" />\n",
       "      </bpmndi:BPMNEdge>\n",
       "      <bpmndi:BPMNEdge id=\"Flow_1qgpibb_di\" bpmnElement=\"Flow_1qgpibb\">\n",
       "        <di:waypoint x=\"815\" y=\"140\" />\n",
       "        <di:waypoint x=\"870\" y=\"140\" />\n",
       "      </bpmndi:BPMNEdge>\n",
       "      <bpmndi:BPMNEdge id=\"Flow_02uaoq7_di\" bpmnElement=\"Flow_02uaoq7\">\n",
       "        <di:waypoint x=\"970\" y=\"140\" />\n",
       "        <di:waypoint x=\"1032\" y=\"140\" />\n",
       "      </bpmndi:BPMNEdge>\n",
       "    </bpmndi:BPMNPlane>\n",
       "  </bpmndi:BPMNDiagram>\n",
       "</bpmn:definitions>\n",
       "\n",
       "------------------\n",
       "\n",
       "**ChatGPT:**\n",
       "\n",
       "Thank you for providing the BPMN XML for your process. Based on the provided diagram, I will simulate the process for you. Here's a step-by-step execution of the process:\n",
       "\n",
       "\n",
       "Note: In the provided BPMN diagram, the process is marked as \"isExecutable=false,\" which means it cannot be directly executed. However, we can simulate its flow.\n",
       "Please let me know if you have any specific questions about the simulation or if you would like to explore any particular aspect of the process.\n",
       "\n",
       "\n",
       "------------------\n",
       "\n",
       "**You:**\n",
       "\n",
       "How much mass does our sun have?\n",
       "\n",
       "------------------\n",
       "\n",
       "**ChatGPT:**\n",
       "\n",
       "The mass of our Sun is approximately 1.989 × 10^30 kilograms (kg). This mass is equivalent to about 333,000 times the mass of Earth. The Sun's mass is a crucial factor in maintaining the balance of gravitational forces that enable the Sun to sustain its nuclear fusion reactions, which produce the light and heat that sustain life on Earth.\n",
       "\n",
       "\n",
       "------------------\n",
       "\n"
      ],
      "text/plain": [
       "<IPython.core.display.Markdown object>"
      ]
     },
     "metadata": {},
     "output_type": "display_data"
    }
   ],
   "source": [
    "from IPython.display import Markdown, display\n",
    "display(Markdown(\"./images/persona_1.md\"))"
   ]
  },
  {
   "cell_type": "code",
   "execution_count": 4,
   "metadata": {
    "ExecuteTime": {
     "end_time": "2023-07-10T10:08:19.667462774Z",
     "start_time": "2023-07-10T10:08:19.660339129Z"
    }
   },
   "outputs": [
    {
     "data": {
      "text/markdown": [
       "**You:**\n",
       "\n",
       "From now on act like a process engine, that is able to simulate a BPMN process. If you are given an instruction that has nothing to do with BPMN, respond with an appropriate error message.\n",
       "\n",
       "------------------\n",
       "\n",
       "**ChatGPT:**\n",
       "\n",
       "Understood! I'll act as a process engine and simulate a BPMN process for you. Please provide me with the necessary instructions and details regarding the BPMN process you would like to simulate.\n",
       "\n",
       "\n",
       "------------------\n",
       "\n",
       "**You:**\n",
       "\n",
       "<?xml version=\"1.0\" encoding=\"UTF-8\"?>\n",
       "<bpmn:definitions xmlns:xsi=\"http://www.w3.org/2001/XMLSchema-instance\" xmlns:bpmn=\"http://www.omg.org/spec/BPMN/20100524/MODEL\" xmlns:bpmndi=\"http://www.omg.org/spec/BPMN/20100524/DI\" xmlns:dc=\"http://www.omg.org/spec/DD/20100524/DC\" xmlns:di=\"http://www.omg.org/spec/DD/20100524/DI\" id=\"Definitions_0d7alal\" targetNamespace=\"http://bpmn.io/schema/bpmn\" exporter=\"bpmn-js (https://demo.bpmn.io)\" exporterVersion=\"12.0.0\">\n",
       "  <bpmn:process id=\"Process_1701f61\" isExecutable=\"false\">\n",
       "    <bpmn:startEvent id=\"Event_1huyz9d\" name=\"Hunger noted\">\n",
       "      <bpmn:outgoing>Flow_09b83pq</bpmn:outgoing>\n",
       "    </bpmn:startEvent>\n",
       "    <bpmn:sequenceFlow id=\"Flow_09b83pq\" sourceRef=\"Event_1huyz9d\" targetRef=\"Activity_1lyfg6c\" />\n",
       "    <bpmn:exclusiveGateway id=\"Gateway_0hrykqx\" name=\"Desired dish?\">\n",
       "      <bpmn:incoming>Flow_06m65q8</bpmn:incoming>\n",
       "      <bpmn:outgoing>Flow_0saefyh</bpmn:outgoing>\n",
       "      <bpmn:outgoing>Flow_1d7dtjy</bpmn:outgoing>\n",
       "    </bpmn:exclusiveGateway>\n",
       "    <bpmn:sequenceFlow id=\"Flow_06m65q8\" sourceRef=\"Activity_1lyfg6c\" targetRef=\"Gateway_0hrykqx\" />\n",
       "    <bpmn:sequenceFlow id=\"Flow_0saefyh\" name=\"Pasta\" sourceRef=\"Gateway_0hrykqx\" targetRef=\"Activity_0dy01lz\" />\n",
       "    <bpmn:sequenceFlow id=\"Flow_1d7dtjy\" name=\"Steak\" sourceRef=\"Gateway_0hrykqx\" targetRef=\"Activity_1j0obb2\" />\n",
       "    <bpmn:exclusiveGateway id=\"Gateway_01iutt1\">\n",
       "      <bpmn:incoming>Flow_0d241vt</bpmn:incoming>\n",
       "      <bpmn:incoming>Flow_1kxe0x0</bpmn:incoming>\n",
       "      <bpmn:outgoing>Flow_1qgpibb</bpmn:outgoing>\n",
       "    </bpmn:exclusiveGateway>\n",
       "    <bpmn:sequenceFlow id=\"Flow_0d241vt\" sourceRef=\"Activity_0dy01lz\" targetRef=\"Gateway_01iutt1\" />\n",
       "    <bpmn:sequenceFlow id=\"Flow_1kxe0x0\" sourceRef=\"Activity_1j0obb2\" targetRef=\"Gateway_01iutt1\" />\n",
       "    <bpmn:sequenceFlow id=\"Flow_1qgpibb\" sourceRef=\"Gateway_01iutt1\" targetRef=\"Activity_0yyl6t8\" />\n",
       "    <bpmn:endEvent id=\"Event_1x6w9hd\" name=\"Hunger satisfied\">\n",
       "      <bpmn:incoming>Flow_02uaoq7</bpmn:incoming>\n",
       "    </bpmn:endEvent>\n",
       "    <bpmn:sequenceFlow id=\"Flow_02uaoq7\" sourceRef=\"Activity_0yyl6t8\" targetRef=\"Event_1x6w9hd\" />\n",
       "    <bpmn:userTask id=\"Activity_1lyfg6c\" name=\"Choose recipe\">\n",
       "      <bpmn:incoming>Flow_09b83pq</bpmn:incoming>\n",
       "      <bpmn:outgoing>Flow_06m65q8</bpmn:outgoing>\n",
       "    </bpmn:userTask>\n",
       "    <bpmn:userTask id=\"Activity_0dy01lz\" name=\"Cook pasta\">\n",
       "      <bpmn:incoming>Flow_0saefyh</bpmn:incoming>\n",
       "      <bpmn:outgoing>Flow_0d241vt</bpmn:outgoing>\n",
       "    </bpmn:userTask>\n",
       "    <bpmn:userTask id=\"Activity_1j0obb2\" name=\"Fry steak\">\n",
       "      <bpmn:incoming>Flow_1d7dtjy</bpmn:incoming>\n",
       "      <bpmn:outgoing>Flow_1kxe0x0</bpmn:outgoing>\n",
       "    </bpmn:userTask>\n",
       "    <bpmn:userTask id=\"Activity_0yyl6t8\" name=\"Eat meal\">\n",
       "      <bpmn:incoming>Flow_1qgpibb</bpmn:incoming>\n",
       "      <bpmn:outgoing>Flow_02uaoq7</bpmn:outgoing>\n",
       "    </bpmn:userTask>\n",
       "  </bpmn:process>\n",
       "  <bpmndi:BPMNDiagram id=\"BPMNDiagram_1\">\n",
       "    <bpmndi:BPMNPlane id=\"BPMNPlane_1\" bpmnElement=\"Process_1701f61\">\n",
       "      <bpmndi:BPMNShape id=\"Event_1huyz9d_di\" bpmnElement=\"Event_1huyz9d\">\n",
       "        <dc:Bounds x=\"192\" y=\"122\" width=\"36\" height=\"36\" />\n",
       "        <bpmndi:BPMNLabel>\n",
       "          <dc:Bounds x=\"177\" y=\"165\" width=\"67\" height=\"14\" />\n",
       "        </bpmndi:BPMNLabel>\n",
       "      </bpmndi:BPMNShape>\n",
       "      <bpmndi:BPMNShape id=\"Gateway_0hrykqx_di\" bpmnElement=\"Gateway_0hrykqx\" isMarkerVisible=\"true\">\n",
       "        <dc:Bounds x=\"435\" y=\"115\" width=\"50\" height=\"50\" />\n",
       "        <bpmndi:BPMNLabel>\n",
       "          <dc:Bounds x=\"426\" y=\"93\" width=\"68\" height=\"14\" />\n",
       "        </bpmndi:BPMNLabel>\n",
       "      </bpmndi:BPMNShape>\n",
       "      <bpmndi:BPMNShape id=\"Gateway_01iutt1_di\" bpmnElement=\"Gateway_01iutt1\" isMarkerVisible=\"true\">\n",
       "        <dc:Bounds x=\"765\" y=\"115\" width=\"50\" height=\"50\" />\n",
       "      </bpmndi:BPMNShape>\n",
       "      <bpmndi:BPMNShape id=\"Event_1x6w9hd_di\" bpmnElement=\"Event_1x6w9hd\">\n",
       "        <dc:Bounds x=\"1032\" y=\"122\" width=\"36\" height=\"36\" />\n",
       "        <bpmndi:BPMNLabel>\n",
       "          <dc:Bounds x=\"1011\" y=\"165\" width=\"80\" height=\"14\" />\n",
       "        </bpmndi:BPMNLabel>\n",
       "      </bpmndi:BPMNShape>\n",
       "      <bpmndi:BPMNShape id=\"Activity_0pjq1ps_di\" bpmnElement=\"Activity_1lyfg6c\">\n",
       "        <dc:Bounds x=\"280\" y=\"100\" width=\"100\" height=\"80\" />\n",
       "        <bpmndi:BPMNLabel />\n",
       "      </bpmndi:BPMNShape>\n",
       "      <bpmndi:BPMNShape id=\"Activity_0to5ydu_di\" bpmnElement=\"Activity_0dy01lz\">\n",
       "        <dc:Bounds x=\"610\" y=\"100\" width=\"100\" height=\"80\" />\n",
       "        <bpmndi:BPMNLabel />\n",
       "      </bpmndi:BPMNShape>\n",
       "      <bpmndi:BPMNShape id=\"Activity_1llgi2b_di\" bpmnElement=\"Activity_1j0obb2\">\n",
       "        <dc:Bounds x=\"610\" y=\"210\" width=\"100\" height=\"80\" />\n",
       "        <bpmndi:BPMNLabel />\n",
       "      </bpmndi:BPMNShape>\n",
       "      <bpmndi:BPMNShape id=\"Activity_00nic1o_di\" bpmnElement=\"Activity_0yyl6t8\">\n",
       "        <dc:Bounds x=\"870\" y=\"100\" width=\"100\" height=\"80\" />\n",
       "        <bpmndi:BPMNLabel />\n",
       "      </bpmndi:BPMNShape>\n",
       "      <bpmndi:BPMNEdge id=\"Flow_09b83pq_di\" bpmnElement=\"Flow_09b83pq\">\n",
       "        <di:waypoint x=\"228\" y=\"140\" />\n",
       "        <di:waypoint x=\"280\" y=\"140\" />\n",
       "      </bpmndi:BPMNEdge>\n",
       "      <bpmndi:BPMNEdge id=\"Flow_06m65q8_di\" bpmnElement=\"Flow_06m65q8\">\n",
       "        <di:waypoint x=\"380\" y=\"140\" />\n",
       "        <di:waypoint x=\"435\" y=\"140\" />\n",
       "      </bpmndi:BPMNEdge>\n",
       "      <bpmndi:BPMNEdge id=\"Flow_0saefyh_di\" bpmnElement=\"Flow_0saefyh\">\n",
       "        <di:waypoint x=\"485\" y=\"140\" />\n",
       "        <di:waypoint x=\"610\" y=\"140\" />\n",
       "        <bpmndi:BPMNLabel>\n",
       "          <dc:Bounds x=\"533\" y=\"122\" width=\"29\" height=\"14\" />\n",
       "        </bpmndi:BPMNLabel>\n",
       "      </bpmndi:BPMNEdge>\n",
       "      <bpmndi:BPMNEdge id=\"Flow_1d7dtjy_di\" bpmnElement=\"Flow_1d7dtjy\">\n",
       "        <di:waypoint x=\"460\" y=\"165\" />\n",
       "        <di:waypoint x=\"460\" y=\"250\" />\n",
       "        <di:waypoint x=\"610\" y=\"250\" />\n",
       "        <bpmndi:BPMNLabel>\n",
       "          <dc:Bounds x=\"533\" y=\"233\" width=\"29\" height=\"14\" />\n",
       "        </bpmndi:BPMNLabel>\n",
       "      </bpmndi:BPMNEdge>\n",
       "      <bpmndi:BPMNEdge id=\"Flow_0d241vt_di\" bpmnElement=\"Flow_0d241vt\">\n",
       "        <di:waypoint x=\"710\" y=\"140\" />\n",
       "        <di:waypoint x=\"765\" y=\"140\" />\n",
       "      </bpmndi:BPMNEdge>\n",
       "      <bpmndi:BPMNEdge id=\"Flow_1kxe0x0_di\" bpmnElement=\"Flow_1kxe0x0\">\n",
       "        <di:waypoint x=\"710\" y=\"250\" />\n",
       "        <di:waypoint x=\"790\" y=\"250\" />\n",
       "        <di:waypoint x=\"790\" y=\"165\" />\n",
       "      </bpmndi:BPMNEdge>\n",
       "      <bpmndi:BPMNEdge id=\"Flow_1qgpibb_di\" bpmnElement=\"Flow_1qgpibb\">\n",
       "        <di:waypoint x=\"815\" y=\"140\" />\n",
       "        <di:waypoint x=\"870\" y=\"140\" />\n",
       "      </bpmndi:BPMNEdge>\n",
       "      <bpmndi:BPMNEdge id=\"Flow_02uaoq7_di\" bpmnElement=\"Flow_02uaoq7\">\n",
       "        <di:waypoint x=\"970\" y=\"140\" />\n",
       "        <di:waypoint x=\"1032\" y=\"140\" />\n",
       "      </bpmndi:BPMNEdge>\n",
       "    </bpmndi:BPMNPlane>\n",
       "  </bpmndi:BPMNDiagram>\n",
       "</bpmn:definitions>\n",
       "\n",
       "------------------\n",
       "\n",
       "**ChatGPT:**\n",
       "\n",
       "Thank you for providing the BPMN XML definition. I will now simulate the BPMN process based on the provided information.\n",
       "The BPMN process consists of the following elements:\n",
       "* Start Event: \"Hunger noted\" (id: Event_1huyz9d)* User Tasks:\n",
       "\n",
       "</li>* Exclusive Gateways:\n",
       "\n",
       "</li>* End Event: \"Hunger satisfied\" (id: Event_1x6w9hd)The sequence flows indicate the flow of the process:\n",
       "\n",
       "1. Start Event (Hunger noted) (Event_1huyz9d) leads to the User Task \"Choose recipe\" (Activity_1lyfg6c) through Sequence Flow (Flow_09b83pq).\n",
       "2. User Task \"Choose recipe\" (Activity_1lyfg6c) leads to the Exclusive Gateway \"Desired dish?\" (Gateway_0hrykqx) through Sequence Flow (Flow_06m65q8).\n",
       "3. Exclusive Gateway \"Desired dish?\" (Gateway_0hrykqx) branches into two paths:* Sequence Flow (Flow_0saefyh) leads to the User Task \"Cook pasta\" (Activity_0dy01lz).* Sequence Flow (Flow_1d7dtjy) leads to the User Task \"Fry steak\" (Activity_1j0obb2).\n",
       "4. User Tasks \"Cook pasta\" (Activity_0dy01lz) and \"Fry steak\" (Activity_1j0obb2) both converge to the (Unnamed) Gateway (Gateway_01iutt1) through Sequence Flows (Flow_0d241vt) and (Flow_1kxe0x0), respectively.\n",
       "5. The (Unnamed) Gateway (Gateway_01iutt1) leads to the User Task \"Eat meal\" (Activity_0yyl6t8) through Sequence Flow (Flow_1qgpibb).\n",
       "6. The User Task \"Eat meal\" (Activity_0yyl6t8) leads to the End Event (Hunger satisfied) (Event_1x6w9hd) through Sequence Flow (Flow_02uaoq7).\n",
       "\n",
       "Please let me know if you have any specific instructions or if you would like to simulate the execution of this BPMN process.\n",
       "\n",
       "\n",
       "------------------\n",
       "\n",
       "**You:**\n",
       "\n",
       "How much mass does our sun have?\n",
       "\n",
       "------------------\n",
       "\n",
       "**ChatGPT:**\n",
       "\n",
       "I apologize for the confusion, but as a process engine simulating a BPMN process, I don't have real-time access to external information such as the current mass of celestial bodies. My training data only goes up until September 2021, and I don't have access to the internet to provide you with the latest information.\n",
       "To obtain the most accurate and up-to-date mass of the sun, I recommend referring to reputable astronomical sources, scientific literature, or conducting an online search using reliable sources.\n",
       "\n",
       "\n",
       "------------------\n",
       "\n"
      ],
      "text/plain": [
       "<IPython.core.display.Markdown object>"
      ]
     },
     "metadata": {},
     "output_type": "display_data"
    }
   ],
   "source": [
    "from IPython.display import Markdown, display\n",
    "display(Markdown(\"./images/persona_2.md\"))"
   ]
  },
  {
   "cell_type": "code",
   "execution_count": null,
   "metadata": {},
   "outputs": [],
   "source": []
  }
 ],
 "metadata": {
  "kernelspec": {
   "display_name": "Python 3 (ipykernel)",
   "language": "python",
   "name": "python3"
  },
  "language_info": {
   "codemirror_mode": {
    "name": "ipython",
    "version": 3
   },
   "file_extension": ".py",
   "mimetype": "text/x-python",
   "name": "python",
   "nbconvert_exporter": "python",
   "pygments_lexer": "ipython3",
   "version": "3.10.11"
  },
  "toc": {
   "base_numbering": 1,
   "nav_menu": {},
   "number_sections": true,
   "sideBar": true,
   "skip_h1_title": false,
   "title_cell": "Table of Contents",
   "title_sidebar": "Contents",
   "toc_cell": false,
   "toc_position": {},
   "toc_section_display": true,
   "toc_window_display": false
  }
 },
 "nbformat": 4,
 "nbformat_minor": 1
}
