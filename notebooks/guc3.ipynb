{
 "cells": [
  {
   "cell_type": "markdown",
   "metadata": {},
   "source": [
    "# GUC3 – Fragen analysieren / Verteilung erkennen\n",
    "- Verteilung Fragen (Schwerpunkte)\n",
    "- Lücken?\n",
    "- Genügend Expertiese for Ort? Personen gut ausgewählt?\n",
    "- Leitfragen <-> Insights <-> HMW-Fragen"
   ]
  },
  {
   "cell_type": "code",
   "execution_count": null,
   "metadata": {},
   "outputs": [],
   "source": [
    "guc3_briefing = \"\"\"\n",
    "Das operative Stiftungsprojekt \"Bildungslabor München\", konzipiert und begleitet von der \"Hans Sauer Stiftung\",\n",
    "bildet einen Rahmen für den aktuellen Fortschreibungsprozess der Leitlinie Bildung des Referats für Bildung und \n",
    "Sport der Landeshauptstadt München. Das \"Bildungslabor München\" ist eine Plattform zur Entstehung von zukunftsfähigen \n",
    "Ansätzen und Ideen für eine nachhaltige Weiterentwicklung der Bildungslandschaft Münchens und setzt Bildung in den \n",
    "Kontext von Stadt und Stadtgesellschaft.\n",
    "\n",
    "Zu Beginn des Stiftungsprojekts wurden im Rahmen des Formats \"Admin Lab\" die heterogenen Perspektiven und Expertisen \n",
    "aus der Stadtverwaltung auf das Thema Bildung genutzt um Themen und Fragen (=Leitfragen) zu entwickeln.\n",
    "\n",
    "Anschließend wurden in den Regionalwerkstätten in einer Workshop-Reihe Wissen und Erfahrungen aus unterschiedlichen Bereichen \n",
    "des Münchner Bildungssystems gesammelt und dokumentiert. \n",
    "\n",
    "Im \"Social Lab\", dem dritten partizipativen Beteiligungsformat, ging es darum die erhobenen Herausforderungen und Chancen aus den \n",
    "Regionalwerkstätten weiter zu qualifizieren und sich intensiv mit Zielkonflikten, Wechselwirkungen und Lösungsmöglichkeiten\n",
    "auseinanderzusetzen.\n",
    "\n",
    "Die Ergebnisse des \"Social Lab\" befinden sich in der Datei die ich dir hochgeladen habe.\n",
    "\n",
    "Du agierst in der Rolle \"Data Scientist\" im Team der \"Hans Sauer Stiftung\" und bist für die Analyse der Daten zuständig.\n",
    "\n",
    "Sage \"Bereit\", wenn du bereit bist für eine Aufgabe.\n",
    "\"\"\"\n",
    "\n",
    "# GPT:\n",
    "# Bereit."
   ]
  },
  {
   "cell_type": "code",
   "execution_count": null,
   "metadata": {},
   "outputs": [],
   "source": [
    "# 1. Wieviele Einträge?\n",
    "# 2. Häufigkeitsverteilung Insights/Fragen?\n",
    "# 3. Thematische Schwerpunkte (Fragen nach Thema gruppieren)?\n",
    "\n",
    "guc3____ = \"\"\"\n",
    "\n",
    "<WIP>\n",
    "\n",
    "\"\"\"\n",
    "\n"
   ]
  },
  {
   "cell_type": "code",
   "execution_count": null,
   "metadata": {},
   "outputs": [],
   "source": [
    "# Optional für weitere Analyse-Ideen\n",
    "guc1_was_analysieren = \"\"\"\n",
    "Was wäre besonders spannend zu analysieren basierend auf den vorliegenden Daten?\n",
    "Liste 5 Vorschläge auf.\n",
    "\"\"\""
   ]
  }
 ],
 "metadata": {
  "kernelspec": {
   "display_name": "aki1",
   "language": "python",
   "name": "python3"
  },
  "language_info": {
   "name": "python",
   "version": "3.10.13"
  }
 },
 "nbformat": 4,
 "nbformat_minor": 2
}
