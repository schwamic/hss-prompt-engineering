{
 "cells": [
  {
   "cell_type": "markdown",
   "metadata": {},
   "source": [
    "# GUC3 – Fragen analysieren / Verteilung erkennen\n",
    "- Verteilung Fragen (Schwerpunkte)\n",
    "- Lücken?\n",
    "- Genügend Expertiese for Ort? Personen gut ausgewählt?\n",
    "- Leitfragen <-> Insights <-> HMW-Fragen"
   ]
  }
 ],
 "metadata": {
  "language_info": {
   "name": "python"
  }
 },
 "nbformat": 4,
 "nbformat_minor": 2
}
