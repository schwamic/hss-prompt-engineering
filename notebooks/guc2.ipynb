{
 "cells": [
  {
   "cell_type": "markdown",
   "metadata": {},
   "source": [
    "# GUI2 – Insights formulieren\n",
    "- Erstelle ein Key-Insight pro Eintrag -> Ein vollständiges Beispiel vorgeben.\n",
    "- Fasse alle Insights zu 3 Insights zusammen."
   ]
  },
  {
   "cell_type": "code",
   "execution_count": null,
   "metadata": {},
   "outputs": [],
   "source": [
    "# GGf. besser:\n",
    "# Ersten drei Einträge als Beispiel nutzen und dann nur 10 Weitere generieren lassen.\n",
    "# Alle bringt nichts, da wir eh nicht alles evaluierten können...\n",
    "\n",
    "# -> !!! Eine weitere Detaillierung der Analyse könnte durch das Einbeziehen von qualitativen Einsichten aus den Antworten zu jeder Leitfrage erreicht werden.\n",
    "# = Key-Insight => Aufklären, dass Beispiel die Antwort auf die Leitfrage ist !!!\n",
    "\n",
    "# <TODO: Hier funktioniert noch was nicht...!, ggf. aber auch nicht wichtig? -> key insights>\n",
    "guc1_schwerpunktgruppen_beispiele = \"\"\"\n",
    "Bearbeite nun weitere Aufgaben Schritt für Schritt:\n",
    "1. Analysiere die Beispiele bestehend aus den Spalten \"Titel des Beispiels\", \"1) Beschreibe Dein konkretes Beispiel.\", \"2) Was läuft gut oder schlecht?\", \"3) Woran liegt es, dass es so läuft?\".\n",
    "2. Extrahiere thematische Schwerpunkte zu jedem Beispiel.\n",
    "3. Gruppiere Beispiele anhand thematischer Schwerpunkte.\n",
    "4. Beschreibe jede Gruppe in einem Satz.\n",
    "4. Beschreibe wichtige Erkentnisse der Analyse in 2-3 Sätzen.\n",
    "5. Gebe in 1 Satz an wie ich das Prompt optimieren kann.\n",
    "\n",
    "Generiere deine vollständige Antwort lückenlos als JSON mit folgender Struktur:\n",
    "{\n",
    "    \"Datei\": <Dateiname>,\n",
    "    <Gruppe>: [{\"Beschreibung\": <Beschreibung der Gruppe>, \"Beispiele\": [<Indize der Zeile des Beispiels in der Tabelle>]}]\n",
    "}\n",
    "\"\"\"\n",
    "\n",
    "# <TODO: Hier funktioniert noch was nicht...!, ggf. aber auch nicht wichtig? -> key insights>\n",
    "guc1_verteilung_beispiele = \"\"\"\n",
    "Bearbeite nun weitere Aufgaben Schritt für Schritt:\n",
    "1. Analysiere die Beispiele bestehend aus den Spalten \"Titel des Beispiels\" und \"1) Beschreibe Dein konkretes Beispiel.\" in 1-2 Sätzen.\n",
    "2. Zwischenschritt: Gruppiere die Beispiele nach ihren inhaltlichen Schwerpunkten. Fokusiere dich dabei auf die Informationen in den Spalten der Beispiele.\n",
    "3. Zwischenschritt: Beschreibe jede Gruppe mit 1 Satz und leite einen Titel ab.\n",
    "4. Zwischenschritt: Zähle die Beispiele jeder Gruppe.\n",
    "5. Generiere deine vollständige Analyse lückenlos als JSON mit folgender Struktur:\n",
    "{\n",
    "    \"Datei\": <Dateiname>,\n",
    "    \"4\": [{<Gruppen-Titel>:<Gruppen-Beschreibung>, \"Anzahl\": <Anzahl der Beispiele in der Gruppe> }]\n",
    "}\n",
    "6. Begründe deine Analyse in 2-3 Sätzen.\n",
    "7. Gebe in 1 Satz an wie ich das Prompt optimieren kann.\n",
    "\"\"\""
   ]
  },
  {
   "cell_type": "code",
   "execution_count": null,
   "metadata": {},
   "outputs": [],
   "source": []
  }
 ],
 "metadata": {
  "language_info": {
   "name": "python"
  }
 },
 "nbformat": 4,
 "nbformat_minor": 2
}
