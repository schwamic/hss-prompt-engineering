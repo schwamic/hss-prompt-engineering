{
 "cells": [
  {
   "cell_type": "markdown",
   "metadata": {},
   "source": [
    "# PING Notebook"
   ]
  },
  {
   "cell_type": "code",
   "execution_count": 6,
   "metadata": {},
   "outputs": [],
   "source": [
    "import os\n",
    "from openai import OpenAI\n",
    "from dotenv import load_dotenv, find_dotenv\n",
    "_ = load_dotenv(find_dotenv()) # read local .env file\n",
    "\n",
    "client = OpenAI(\n",
    "    organization=os.getenv('OPENAI_ORG_ID'),\n",
    "    api_key=os.getenv('OPENAI_API_KEY')\n",
    ")\n",
    "\n",
    "# print(client.api_key)\n",
    "# print(client.organization)"
   ]
  },
  {
   "cell_type": "code",
   "execution_count": 12,
   "metadata": {},
   "outputs": [],
   "source": [
    "def get_completion(prompt): \n",
    "    response = client.chat.completions.create(\n",
    "        model=\"gpt-3.5-turbo-1106\", # gpt-4-1106-preview: possible but expensive\n",
    "        response_format={ \"type\": \"json_object\" },\n",
    "        messages=[\n",
    "                    {\"role\": \"system\", \"content\": \"You are a helpful assistant designed to output JSON.\"},\n",
    "                    {\"role\": \"user\", \"content\": prompt},\n",
    "                ],\n",
    "        temperature=0.2, # [0,2] high values are more random and less deterministic\n",
    "        #stream=True, # enable to get a ChatGPT-like experiance\n",
    "    )\n",
    "    print(response.usage)\n",
    "    return response.choices[0].message.content"
   ]
  },
  {
   "cell_type": "code",
   "execution_count": 11,
   "metadata": {},
   "outputs": [
    {
     "name": "stdout",
     "output_type": "stream",
     "text": [
      "CompletionUsage(completion_tokens=12, prompt_tokens=27, total_tokens=39)\n",
      "{\n",
      "  \"response\": \"This is a test.\"\n",
      "}\n"
     ]
    }
   ],
   "source": [
    "prompt_test = \"Say this is a test.\"\n",
    "response = get_completion(prompt_test)\n",
    "print(response)\n",
    "\n",
    "# TODO\n",
    "# upload file via UI\n",
    "# question regarding file\n",
    "# !!! limit tokens -> response length !!! (system)\n"
   ]
  }
 ],
 "metadata": {
  "kernelspec": {
   "display_name": "aki1",
   "language": "python",
   "name": "python3"
  },
  "language_info": {
   "codemirror_mode": {
    "name": "ipython",
    "version": 3
   },
   "file_extension": ".py",
   "mimetype": "text/x-python",
   "name": "python",
   "nbconvert_exporter": "python",
   "pygments_lexer": "ipython3",
   "version": "3.10.13"
  }
 },
 "nbformat": 4,
 "nbformat_minor": 2
}
