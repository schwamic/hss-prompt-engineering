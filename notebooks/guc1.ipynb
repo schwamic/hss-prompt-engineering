{
 "cells": [
  {
   "cell_type": "markdown",
   "metadata": {},
   "source": [
    "# (GUC1) Analyse von Leitfragen Status Quo / Momente\n",
    "\n",
    "Aus Aussagen der LSQM Templates werden Schwerpunktthemen, inhaltliche Lücken und Stimmungen extrahiert.\n",
    "\n",
    "- Antworten generiert mit fine-funed GPT-4 \"GPT Data Analysis\" via ChatGPT.\n",
    "- Beispielhaft an der Datei Regionalwerkstatt_Nord "
   ]
  },
  {
   "cell_type": "markdown",
   "metadata": {},
   "source": [
    "## Prompts: Verstehen"
   ]
  },
  {
   "cell_type": "code",
   "execution_count": null,
   "metadata": {},
   "outputs": [],
   "source": [
    "\n",
    "guc1_tabelle = \"\"\"\n",
    "In vier Regionalwerkstätten in den vier Himmelsrichtungen von München wurden verschiedensten Personen aus dem Bildungsbereich in München eingeladen. Sie teilten sich selbst nach ihrer Expertise und Hintergrund in eine der drei Lebensphasen (\"Frühe Kindheit\", \"Kindheit und Jugendalter\", \"Jugend und Erwachsenenalter\") ein und beantworteten dort die Leitfragen ihrer Lebensphase. Die Teilnehmenden suchten sich dazu mehrere Fragen aus einer Sammlung von Leitfragen aus. Du bist Teil des Hans Sauer Stiftung Teams und hilfst dabei die gewonnenen Daten zu analysieren. Ich habe dir dazu eine Datei der Regionalwerkstatt Nord hochgeladen.\n",
    "Bearbeite folgende Aufgabe Schritt für Schritt und generiere deine fertige Analyse lückenlos als JSON mit folgender Struktur:\n",
    "{\n",
    "    \"Datei\": <Dateiname>,\n",
    "    \"1\": [<Überschriften>],\n",
    "    \"2\": {\"Einträge\": <Anzahl>},\n",
    "    \"3\": [{<Kategorie>: <Anzahl>}]\n",
    "}\n",
    "1. Extrahiere die Überschrift pro Spalte in der Tabelle und update entsprechend das JSON.\n",
    "2. Zähle wie viele Einträge die Tabelle beinhaltet und update entsprechend das JSON.\n",
    "3. Sortiere das Ergebnis nach Kategorie aus der Spalte \"Kategorie\" und update entsprechend das JSON.\n",
    "4. Beschreibe wichtige Erkentnisse der Analyse in 1-2 Sätzen.\n",
    "5. Gebe in 1 Satz an wie ich das Prompt optimieren kann.\n",
    "\"\"\""
   ]
  },
  {
   "cell_type": "code",
   "execution_count": 41,
   "metadata": {},
   "outputs": [],
   "source": [
    "guc1_verteilung_leitfragen = \"\"\"\n",
    "Bearbeite folgende Aufgabe Schritt für Schritt und generiere deine fertige Analyse lückenlos als JSON mit folgender Struktur:\n",
    "{\n",
    "    \"Datei\": <Dateiname>,\n",
    "    \"1,2\": [{<Kategorie>: [{<Leitfrage Nummer>: <Anzahl>}]}]\n",
    "}\n",
    "1. Gruppiere die Leitfragen nach der zugehörigen \"Kategorie\" in der Spalte \"Kategorie\" und update entsprechend das JSON.\n",
    "2. Zähle wie häufig die jeweiligen Leitfragen pro \"Kategorie\" beantwortet wurden und update entsprechend das JSON.\n",
    "3. Beschreibe wichtige Erkentnisse der Analyse in 1-2 Sätzen.\n",
    "4. Gebe in 1 Satz an wie ich das Prompt optimieren kann.\n",
    "\"\"\""
   ]
  },
  {
   "cell_type": "code",
   "execution_count": 42,
   "metadata": {},
   "outputs": [],
   "source": [
    "\n",
    "guc1_verteilung_lebensphasen = \"\"\"\n",
    "Bearbeite folgende Aufgabe Schritt für Schritt und generiere deine fertige Analyse lückenlos als JSON mit folgender Struktur:\n",
    "{\n",
    "    \"Datei\": <Dateiname>,\n",
    "    \"1,2\": [{<Kategorie>: [{<Lebensphase>: <Anzahl>}]}],\n",
    "    \"3\": [{<Lebensphase>: <Anzahl>}]\n",
    "}\n",
    "1. Zähle wie häufig die jeweiligen Lebensphasen vorkommen und update entsprechend das JSON.\n",
    "2. Gruppiere die Lebensphasen nach der zugehörigen Kategorie in der Spalte \"Kategorie\" und update entsprechend das JSON.\n",
    "3. Erfasse die Gesamthäufigkeit der Lebensphasen und update entsprechend das JSON.\n",
    "4. Beschreibe wichtige Erkentnisse der Analyse in 1-2 Sätzen.\n",
    "5. Gebe in 1 Satz an wie ich das Prompt optimieren kann.\n",
    "\"\"\""
   ]
  },
  {
   "cell_type": "code",
   "execution_count": null,
   "metadata": {},
   "outputs": [],
   "source": [
    "guc1_verteilung_bildungseinrichtungen = \"\"\"\n",
    "Bearbeite folgende Aufgabe Schritt für Schritt und generiere deine fertige Analyse lückenlos als JSON mit folgender Struktur:\n",
    "{\n",
    "    \"Datei\": <Dateiname>,\n",
    "    \"1,2\": [{<Bildungseinrichtung>: <Anzahl>}]\n",
    "}\n",
    "1. Gruppiere die Bildungseinrichtungen nach der zugehörigen Kategorie in der Spalte \"Kategorie\" und update entsprechend das JSON.\n",
    "2. Zähle wie häufig die jeweiligen Bildungseinrichtungen vorkommen und update entsprechend das JSON.\n",
    "3. Beschreibe wichtige Erkentnisse der Analyse in 1-2 Sätzen.\n",
    "4. Gebe in 1 Satz an wie ich das Prompt optimieren kann.\n",
    "\"\"\""
   ]
  },
  {
   "cell_type": "code",
   "execution_count": null,
   "metadata": {},
   "outputs": [],
   "source": [
    "guc1_verteilung_alter = \"\"\"\n",
    "Bearbeite folgende Aufgabe Schritt für Schritt und generiere deine fertige Analyse lückenlos als JSON mit folgender Struktur:\n",
    "{\n",
    "    \"Datei\": <Dateiname>,\n",
    "    \"0-12\": <Anzahl>,\n",
    "    \"13-17\": <Anzahl>,\n",
    "    \"18-24\": <Anzahl>,\n",
    "    \"25-64\": <Anzahl>,\n",
    "    \"65+\": <Anzahl>\n",
    "}\n",
    "1. Sortiere das Alter in Altersgruppen \"0-12\", \"13-17\", \"18-24\", \"25-64\" und \"65+\" und update entsprechend das JSON.\n",
    "2. Zähle wie häufig die jeweiligen Altersgruppen vorkommen und update entsprechend das JSON.\n",
    "3. Beschreibe wichtige Erkentnisse der Analyse in 1-2 Sätzen.\n",
    "4. Gebe in 1 Satz an wie ich das Prompt optimieren kann.\n",
    "\"\"\""
   ]
  },
  {
   "cell_type": "code",
   "execution_count": null,
   "metadata": {},
   "outputs": [],
   "source": [
    "guc1_verteilung_rollen = \"\"\"\n",
    "Bearbeite folgende Aufgabe Schritt für Schritt und generiere deine fertige Analyse lückenlos als JSON mit folgender Struktur:\n",
    "{\n",
    "    \"Datei\": <Dateiname>,\n",
    "    \"2,3\": [{<Kategorie>: [{<Rolle Neu>: <Anzahl>}]}]\n",
    "}\n",
    "1. Füge die Inhalte der Spalten \"Rolle\" und \"Rolle (Sonstiges)\" getrennt mit einen Komma in einer Spalte mit der Überschrift \"Rolle Neu\" zusammen.\n",
    "2. Gruppiere die neuen Rollen nach der zugehörigen Kategorie in der Spalte \"Kategorie\" und update entsprechend das JSON.\n",
    "3. Zähle wie häufig die jeweiligen neuen Rollen vorkommen und update entsprechend das JSON.\n",
    "4. Beschreibe wichtige Erkentnisse der Analyse in 1-2 Sätzen.\n",
    "5. Gebe in 1 Satz an wie ich das Prompt optimieren kann.\n",
    "\"\"\""
   ]
  },
  {
   "cell_type": "markdown",
   "metadata": {},
   "source": [
    "## Prompts: Stimmung und Zusammenhänge"
   ]
  },
  {
   "cell_type": "code",
   "execution_count": 45,
   "metadata": {},
   "outputs": [],
   "source": [
    "guc1_was_analysieren = \"\"\"\n",
    "Was wäre besonders spannend zu analysieren basierend auf den vorliegenden Daten aus der Regionalwerkstatt Nord?\n",
    "Liste fünf Vorschläge auf.\n",
    "\"\"\""
   ]
  },
  {
   "cell_type": "code",
   "execution_count": 48,
   "metadata": {},
   "outputs": [],
   "source": [
    "guc1_analyse_thema_lebensphase = \"\"\"\n",
    "Bearbeite folgende Aufgabe Schritt für Schritt und generiere deine fertige Analyse lückenlos pro Lebenspahse in 2-3 Sätzen:\n",
    "1. Analysiere welche Themen bevorzugt ausgewählt wurden im Bezug auf den Lebensphasen.\n",
    "2. Beschreibe wichtige Erkentnisse der Analyse in 1-2 Sätzen.\n",
    "3. Gebe in 1 Satz an wie ich das Prompt optimieren kann.\n",
    "\"\"\""
   ]
  },
  {
   "cell_type": "code",
   "execution_count": null,
   "metadata": {},
   "outputs": [],
   "source": [
    "guc1_analyse_thema_rolle = \"\"\"\n",
    "Bearbeite folgende Aufgabe Schritt für Schritt und generiere deine fertige Analyse lückenlos pro Lebenspahse in 2-3 Sätzen:\n",
    "1. Analysiere welche Themen bevorzugt ausgewählt wurden im Bezug auf den Rollen.\n",
    "2. Beschreibe wichtige Erkentnisse der Analyse in 1-2 Sätzen.\n",
    "3. Gebe in 1 Satz an wie ich das Prompt optimieren kann.\n",
    "\"\"\""
   ]
  },
  {
   "cell_type": "code",
   "execution_count": null,
   "metadata": {},
   "outputs": [],
   "source": [
    "guc1_stimmung_kategorie = \"\"\"\n",
    "Bearbeite folgende Aufgabe Schritt für Schritt und generiere deine fertige Analyse lückenlos als JSON mit folgender Struktur:\n",
    "{\n",
    "    \"Datei\": <Dateiname>,\n",
    "    \"Gesamt\": [{\"Neutral\": <Anzahl>}, {\"Positiv\": <Anzahl>}, {\"Negativ\": <Anzahl>}],\n",
    "    <Kategorie>: [{<Klasse>: <Anzahl>}]\n",
    "}\n",
    "1. Klassifiziere die Stimmung des Texts in Spalte \"2) Was läuft gut oder schlecht?\" für jeden einzelnen Eintrag in \"Positiv\", \"Neutral\" oder \"Negativ\" und update entsprechend das JSON.\n",
    "2. Zähle die Häufigkeiten der jeweiligen Klassen und update entsprechend das JSON.\n",
    "3. Sortiere das Ergebnis nach Kategorie aus der Spalte \"Kategorie\" und update entsprechend das JSON. \n",
    "4. Beschreibe wichtige Erkentnisse der Analyse in 1-2 Sätzen.\n",
    "5. Gebe in 1 Satz an wie ich das Prompt optimieren kann.\n",
    "\"\"\""
   ]
  },
  {
   "cell_type": "code",
   "execution_count": null,
   "metadata": {},
   "outputs": [],
   "source": [
    "guc1_stimmung_rolle = \"\"\"\n",
    "Bearbeite folgende Aufgabe Schritt für Schritt und generiere deine fertige Analyse lückenlos als JSON mit folgender Struktur:\n",
    "{\n",
    "    \"Datei\": <Dateiname>,\n",
    "    <1>: [{<Stimmungs-Klasse>: [<Rollen>]}]\n",
    "}\n",
    "1. Klassifiziere die Stimmung des Texts in Spalte \"2) Was läuft gut oder schlecht?\" für jeden einzelnen Eintrag in \"Positiv\", \"Neutral\" oder \"Negativ\" und update entsprechend das JSON.\n",
    "2. Gruppiere die Rollen nach den Stimmungs-Klassen und update entsprechend das JSON.\n",
    "2. Beschreibe wichtige Erkentnisse der Analyse in 1-2 Sätzen.\n",
    "3. Gebe in 1 Satz an wie ich das Prompt optimieren kann.\n",
    "\"\"\""
   ]
  }
 ],
 "metadata": {
  "kernelspec": {
   "display_name": "aki1",
   "language": "python",
   "name": "python3"
  },
  "language_info": {
   "codemirror_mode": {
    "name": "ipython",
    "version": 3
   },
   "file_extension": ".py",
   "mimetype": "text/x-python",
   "name": "python",
   "nbconvert_exporter": "python",
   "pygments_lexer": "ipython3",
   "version": "3.10.13"
  }
 },
 "nbformat": 4,
 "nbformat_minor": 2
}
