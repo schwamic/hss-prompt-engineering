{
 "cells": [
  {
   "cell_type": "markdown",
   "metadata": {},
   "source": [
    "# (GUC1) Analyse von Leitfragen Status Quo / Momente\n",
    "\n",
    "Aus Aussagen der LSQM Templates werden Schwerpunktthemen, inhaltliche Lücken und Stimmungen extrahiert.\n",
    "\n",
    "- Antworten generiert mit fine-funed GPT-4 \"GPT Data Analysis\" via ChatGPT.\n",
    "- Beispielhaft an der Datei Regionalwerkstatt_Nord \n",
    "\n",
    "---\n",
    "\n",
    "### Insights\n",
    "- Deutsch als Sprache ist suboptimal.\n",
    "- Überschrift \"Thema\" suboptimal -> abgeändert zu \"Kategorie\" (siehe RW_Nord).\n",
    "- Output variiert in der Qualität -> Angabe Fokus und Output hilft.\n",
    "- Format JSON hilft das Output genauer zu definieren und erhöht damit die Qualität des Ergbnises.\n",
    "- Absteigend sortieren (JSON nicht immer volltändig, so sind aber die wichtigsten Insights vorhanden).\n",
    "- ChatGPT kommt mit den Daten zurecht:\n",
    "    - Verteilung der Daten\n",
    "    - Stimmungsbild\n",
    "    - Zusammenhänge\n",
    "    - Analyse zur Auswahl der Personen"
   ]
  },
  {
   "cell_type": "markdown",
   "metadata": {},
   "source": [
    "## Prompts: Verstehen"
   ]
  },
  {
   "cell_type": "code",
   "execution_count": null,
   "metadata": {},
   "outputs": [],
   "source": [
    "\n",
    "guc1_tabelle = \"\"\"\n",
    "In vier Regionalwerkstätten in den vier Himmelsrichtungen von München wurden verschiedensten Personen aus dem Bildungsbereich in München eingeladen. Sie teilten sich selbst nach ihrer Expertise und Hintergrund in eine der drei Lebensphasen (\"Frühe Kindheit\", \"Kindheit und Jugendalter\", \"Jugend und Erwachsenenalter\") ein und beantworteten dort die Leitfragen ihrer Lebensphase. Die Teilnehmenden suchten sich dazu mehrere Fragen aus einer Sammlung von Leitfragen aus. Du agierst in der Rolle Data Scientist im Team der Hans Sauer Stiftung und bist für die Analyse der Daten zuständig. Ich habe dir dazu eine Datei der Regionalwerkstatt Nord hochgeladen.\n",
    "Fokusiere dich bei deiner Analyse darauf, dass dein Ergebnis alle Daten beinhaltet.\n",
    "Bearbeite dazu folgende Aufgabe Schritt für Schritt und generiere deine fertige Analyse lückenlos im JSON Format mit folgender Struktur:\n",
    "{\n",
    "    \"Datei\": <Dateiname>,\n",
    "    \"1\": [<Überschriften>],\n",
    "    \"2\": {\"Einträge\": <Anzahl>},\n",
    "    \"3\": [{<Kategorie>: <Anzahl>}]\n",
    "}\n",
    "1. Extrahiere die Überschrift pro Spalte in der Tabelle und update entsprechend das JSON.\n",
    "2. Zähle wie viele Einträge die Tabelle beinhaltet und update entsprechend das JSON.\n",
    "3. Gruppiere das Ergebnis nach Kategorie aus der Spalte \"Kategorie\" und update entsprechend das JSON.\n",
    "4. Beschreibe wichtige Erkentnisse der Analyse in 1-2 Sätzen.\n",
    "5. Gebe in 1 Satz an wie ich das Prompt optimieren kann.\n",
    "\"\"\""
   ]
  },
  {
   "cell_type": "code",
   "execution_count": null,
   "metadata": {},
   "outputs": [],
   "source": [
    "guc1_verteilung_leitfragen = \"\"\"\n",
    "Fokusiere dich bei deiner Analyse darauf, dass dein Ergebnis alle Daten beinhaltet.\n",
    "Bearbeite dazu folgende Aufgabe Schritt für Schritt und generiere deine fertige Analyse lückenlos im JSON Format mit folgender Struktur:\n",
    "{\n",
    "    \"Datei\": <Dateiname>,\n",
    "    \"1,2,3\": [{<Kategorie>: [{<Leitfrage Nummer>: <Anzahl>}]}]\n",
    "}\n",
    "1. Gruppiere die Leitfragen aus der Spalte \"Leitfrage\" nach der zugehörigen Kategorie in der Spalte \"Kategorie\" und update entsprechend das JSON.\n",
    "2. Zähle wie häufig die jeweiligen Leitfragen pro Kategorie beantwortet wurden und update entsprechend das JSON.\n",
    "3. Sortiere die Einträge absteigend nach Häufigkeit und update entsprechend das JSON.\n",
    "4. Beschreibe wichtige Erkentnisse der Analyse in 1-2 Sätzen.\n",
    "5. Gebe in 1 Satz an wie ich das Prompt optimieren kann.\n",
    "\"\"\""
   ]
  },
  {
   "cell_type": "code",
   "execution_count": 42,
   "metadata": {},
   "outputs": [],
   "source": [
    "\n",
    "guc1_verteilung_lebensphasen = \"\"\"\n",
    "Fokusiere dich bei deiner Analyse darauf, dass dein Ergebnis alle Daten beinhaltet.\n",
    "Bearbeite dazu folgende Aufgabe Schritt für Schritt und generiere deine fertige Analyse lückenlos im JSON Format mit folgender Struktur:\n",
    "{\n",
    "    \"Datei\": <Dateiname>,\n",
    "    \"1,2,3\": [{<Kategorie>: [{<Lebensphase>: <Anzahl>}]}],\n",
    "    \"4\": [{<Lebensphase>: <Anzahl>}]\n",
    "}\n",
    "1. Zähle wie häufig die jeweiligen Lebensphasen in den Spalten \"Frühe Kindheit\",\"Kindheit und Jugendalter\",\"Jugend und Erwachsenenalter\" vorkommen und update entsprechend das JSON.\n",
    "2. Gruppiere die Lebensphasen nach der zugehörigen Kategorie in der Spalte \"Kategorie\" und update entsprechend das JSON.\n",
    "3. Sortiere die Einträge absteigend nach Häufigkeit und update entsprechend das JSON.\n",
    "4. Erfasse die Gesamthäufigkeit der Lebensphasen und update entsprechend das JSON.\n",
    "5. Beschreibe wichtige Erkentnisse der Analyse in 1-2 Sätzen.\n",
    "6. Gebe in 1 Satz an wie ich das Prompt optimieren kann.\n",
    "\"\"\""
   ]
  },
  {
   "cell_type": "code",
   "execution_count": null,
   "metadata": {},
   "outputs": [],
   "source": [
    "guc1_verteilung_bildungseinrichtungen = \"\"\"\n",
    "Fokusiere dich bei deiner Analyse darauf, dass dein Ergebnis alle Daten beinhaltet.\n",
    "Bearbeite dazu folgende Aufgabe Schritt für Schritt und generiere deine fertige Analyse lückenlos im JSON Format mit folgender Struktur:\n",
    "{\n",
    "    \"Datei\": <Dateiname>,\n",
    "    \"1,2,3\": [{<Bildungseinrichtung>: <Anzahl>}]\n",
    "}\n",
    "1. Gruppiere die Bildungseinrichtungen in der Spalte \"Bildungseinrichtung\" nach der zugehörigen Kategorie in der Spalte \"Kategorie\" und update entsprechend das JSON.\n",
    "2. Zähle wie häufig die jeweiligen Bildungseinrichtungen vorkommen und update entsprechend das JSON.\n",
    "3. Sortiere die Einträge absteigend nach Häufigkeit und update entsprechend das JSON.\n",
    "4. Beschreibe wichtige Erkentnisse der Analyse in 1-2 Sätzen.\n",
    "5. Gebe in 1 Satz an wie ich das Prompt optimieren kann.\n",
    "\"\"\""
   ]
  },
  {
   "cell_type": "code",
   "execution_count": null,
   "metadata": {},
   "outputs": [],
   "source": [
    "guc1_verteilung_alter = \"\"\"\n",
    "Fokusiere dich bei deiner Analyse darauf, dass dein Ergebnis alle Daten beinhaltet.\n",
    "Bearbeite dazu folgende Aufgabe Schritt für Schritt und generiere deine fertige Analyse lückenlos im JSON Format mit folgender Struktur:\n",
    "{\n",
    "    \"Datei\": <Dateiname>,\n",
    "    \"0-12\": <Anzahl>,\n",
    "    \"13-17\": <Anzahl>,\n",
    "    \"18-24\": <Anzahl>,\n",
    "    \"25-64\": <Anzahl>,\n",
    "    \"65+\": <Anzahl>\n",
    "}\n",
    "1. Sortiere das Alter in der Spalte \"Alter\" in Altersgruppen \"0-12\", \"13-17\", \"18-24\", \"25-64\" und \"65+\" und update entsprechend das JSON.\n",
    "2. Zähle wie häufig die jeweiligen Altersgruppen vorkommen und update entsprechend das JSON.\n",
    "3. Beschreibe wichtige Erkentnisse der Analyse in 1-2 Sätzen.\n",
    "4. Gebe in 1 Satz an wie ich das Prompt optimieren kann.\n",
    "\"\"\""
   ]
  },
  {
   "cell_type": "code",
   "execution_count": null,
   "metadata": {},
   "outputs": [],
   "source": [
    "guc1_verteilung_rollen = \"\"\"\n",
    "Fokusiere dich bei deiner Analyse darauf, dass dein Ergebnis alle Daten beinhaltet.\n",
    "Bearbeite dazu folgende Aufgabe Schritt für Schritt und generiere deine fertige Analyse lückenlos im JSON Format mit folgender Struktur:\n",
    "{\n",
    "    \"Datei\": <Dateiname>,\n",
    "    \"1,2,3\": [{<Kategorie>: [{<Rolle Neu>: <Anzahl>}]}]\n",
    "}\n",
    "1. Gruppiere die Rollen in den Spalten \"Rolle\" und \"Rolle (Sonstiges)\" nach der zugehörigen Kategorie in der Spalte \"Kategorie\" und update entsprechend das JSON.\n",
    "2. Zähle wie häufig die jeweiligen Rollen vorkommen und update entsprechend das JSON.\n",
    "3. Sortiere die Einträge absteigend nach Häufigkeit und update entsprechend das JSON.\n",
    "4. Beschreibe wichtige Erkentnisse der Analyse in 1-2 Sätzen.\n",
    "5. Gebe in 1 Satz an wie ich das Prompt optimieren kann.\n",
    "\"\"\""
   ]
  },
  {
   "cell_type": "markdown",
   "metadata": {},
   "source": [
    "## Prompts: Stimmung und Zusammenhänge"
   ]
  },
  {
   "cell_type": "code",
   "execution_count": 45,
   "metadata": {},
   "outputs": [],
   "source": [
    "guc1_was_analysieren = \"\"\"\n",
    "Was wäre besonders spannend zu analysieren basierend auf den vorliegenden Daten aus der Regionalwerkstatt Nord?\n",
    "Liste fünf Vorschläge auf.\n",
    "\"\"\""
   ]
  },
  {
   "cell_type": "code",
   "execution_count": null,
   "metadata": {},
   "outputs": [],
   "source": [
    "guc1_analyse_verteilung = \"\"\"\n",
    "Fokusiere dich bei deiner Analyse darauf, dass dein Ergebnis alle Daten beinhaltet.\n",
    "Beantworte folgende Aufgabe Schritt für Schritt in 2-3 Sätzen:\n",
    "1. Erinnere dich an deine Analyse zur Verteilung der Leitfragen, Bildungseinrichtungen und Lebensphasen.\n",
    "2. Haben ausreichend Personen, definiert durch deren Rolle in den Spalten \"Rolle\" und \"Rolle (Sonstiges)\" und Alter in der Spalte \"Alter\", am Workshop teilgenommen?\n",
    "3. Gebe in 1 Satz an wie ich das Prompt optimieren kann.\n",
    "\"\"\""
   ]
  },
  {
   "cell_type": "code",
   "execution_count": 48,
   "metadata": {},
   "outputs": [],
   "source": [
    "guc1_analyse_thema_lebensphase = \"\"\"\n",
    "Fokusiere dich bei deiner Analyse darauf, dass dein Ergebnis alle Daten beinhaltet.\n",
    "Bearbeite dazu folgende Aufgabe Schritt für Schritt und generiere deine fertige Analyse lückenlos im JSON Format mit folgender Struktur:\n",
    "{\n",
    "    \"Datei\": <Dateiname>,\n",
    "    \"1\": [{\"Lebensphase\": <Lebensphase>, \"Leitfragen\": [<Leitfrage Nummer>]}]\n",
    "}\n",
    "1. Analysiere welche 3 Leitfragen in Spalte \"Leitfrage\" bevorzugt ausgewählt wurden im Bezug auf den Lebensphasen in den Spalten \"Frühe Kindheit\", \"Kindheit und Jugendalter\", \"Jugend und Erwachsenenalter\" und update entsprechend das JSON.\n",
    "2. Beschreibe wichtige Erkentnisse der Analyse in 1-2 Sätzen.\n",
    "3. Gebe in 1 Satz an wie ich das Prompt optimieren kann.\n",
    "\"\"\""
   ]
  },
  {
   "cell_type": "code",
   "execution_count": null,
   "metadata": {},
   "outputs": [],
   "source": [
    "guc1_analyse_thema_rolle = \"\"\"\n",
    "Fokusiere dich bei deiner Analyse darauf, dass dein Ergebnis alle Daten beinhaltet.\n",
    "Bearbeite dazu folgende Aufgabe Schritt für Schritt und generiere deine fertige Analyse lückenlos im JSON Format mit folgender Struktur:\n",
    "{\n",
    "    \"Datei\": <Dateiname>,\n",
    "    \"1,2\": [{\"Leitfrage\": <Leitfrage Nummer>, \"Rollen\": [<Rollen>]}]\n",
    "}\n",
    "1. Analysiere welche 7 Leitfragen in Spalte \"Leitfrage\" am häufigsten ausgewählt wurden und update entsprechend das JSON.\n",
    "2. Analysiere welche Rollen in den Spalten \"Rolle\" und \"Rolle (Sonstiges)\" diese Themen bearbeitet haben und update entsprechend das JSON. \n",
    "3. Beschreibe wichtige Erkentnisse der Analyse in 1-2 Sätzen.\n",
    "4. Gebe in 1 Satz an wie ich das Prompt optimieren kann.\n",
    "\"\"\""
   ]
  },
  {
   "cell_type": "code",
   "execution_count": null,
   "metadata": {},
   "outputs": [],
   "source": [
    "guc1_stimmung_kategorie = \"\"\"\n",
    "Fokusiere dich bei deiner Analyse darauf, dass dein Ergebnis alle Daten beinhaltet.\n",
    "Bearbeite dazu folgende Aufgabe Schritt für Schritt und generiere deine fertige Analyse lückenlos im JSON Format mit folgender Struktur:\n",
    "{\n",
    "    \"Datei\": <Dateiname>,\n",
    "    \"Gesamt\": [{\"Neutral\": <Anzahl>}, {\"Positiv\": <Anzahl>}, {\"Negativ\": <Anzahl>}],\n",
    "    <Kategorie>: [{<Klasse>: <Anzahl>}]\n",
    "}\n",
    "1. Klassifiziere die Stimmung des Texts in Spalte \"2) Was läuft gut oder schlecht?\" für jeden einzelnen Eintrag in \"Positiv\", \"Neutral\" oder \"Negativ\" und update entsprechend das JSON.\n",
    "2. Zähle die Häufigkeiten der jeweiligen Klassen und update entsprechend das JSON.\n",
    "3. Sortiere das Ergebnis nach Kategorie aus der Spalte \"Kategorie\" und update entsprechend das JSON. \n",
    "4. Beschreibe wichtige Erkentnisse der Analyse in 1-2 Sätzen.\n",
    "5. Gebe in 1 Satz an wie ich das Prompt optimieren kann.\n",
    "\"\"\""
   ]
  },
  {
   "cell_type": "code",
   "execution_count": null,
   "metadata": {},
   "outputs": [],
   "source": [
    "guc1_stimmung_rolle = \"\"\"\n",
    "Fokusiere dich bei deiner Analyse darauf, dass dein Ergebnis alle Daten beinhaltet.\n",
    "Bearbeite dazu folgende Aufgabe Schritt für Schritt und generiere deine fertige Analyse lückenlos im JSON Format mit folgender Struktur:\n",
    "{\n",
    "    \"Datei\": <Dateiname>,\n",
    "    \"1,2\": [{<Stimmungs-Klasse>: [<Rollen>]}]\n",
    "}\n",
    "1. Klassifiziere die Stimmung des Texts in Spalte \"2) Was läuft gut oder schlecht?\" für jeden einzelnen Eintrag in \"Positiv\", \"Neutral\" oder \"Negativ\" und update entsprechend das JSON.\n",
    "2. Gruppiere die Rollen nach den Stimmungs-Klassen und update entsprechend das JSON.\n",
    "3. Beschreibe wichtige Erkentnisse der Analyse in 1-2 Sätzen.\n",
    "4. Gebe in 1 Satz an wie ich das Prompt optimieren kann.\n",
    "\"\"\""
   ]
  }
 ],
 "metadata": {
  "kernelspec": {
   "display_name": "aki1",
   "language": "python",
   "name": "python3"
  },
  "language_info": {
   "codemirror_mode": {
    "name": "ipython",
    "version": 3
   },
   "file_extension": ".py",
   "mimetype": "text/x-python",
   "name": "python",
   "nbconvert_exporter": "python",
   "pygments_lexer": "ipython3",
   "version": "3.10.13"
  }
 },
 "nbformat": 4,
 "nbformat_minor": 2
}
