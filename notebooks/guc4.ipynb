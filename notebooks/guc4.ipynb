{
 "cells": [
  {
   "cell_type": "markdown",
   "metadata": {},
   "source": [
    "# GUC4 – Ideen analysiern / Verteilung erkennen\n",
    "- Verteilung Ideen (Schwerpunkte)\n",
    "- Muster, Auffälligkeiten?\n",
    "- Genügend Expertiese for Ort? Personen gut ausgewählt?\n",
    "- Leitfragen <-> Insights <-> HMW-Fragen <-> Ideen => Lücken?"
   ]
  }
 ],
 "metadata": {
  "language_info": {
   "name": "python"
  }
 },
 "nbformat": 4,
 "nbformat_minor": 2
}
